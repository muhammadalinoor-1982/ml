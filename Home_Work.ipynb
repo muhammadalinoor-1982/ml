{
 "cells": [
  {
   "cell_type": "markdown",
   "id": "9199a8c4-7d2d-4f5c-be61-c96ce35d9a3b",
   "metadata": {},
   "source": [
    "# Home Work"
   ]
  },
  {
   "cell_type": "markdown",
   "id": "e5a2037d-f724-4697-ad9d-19eda8f3a277",
   "metadata": {},
   "source": [
    "Class start from 15/10/2023"
   ]
  },
  {
   "cell_type": "markdown",
   "id": "4c5a8cc9-37bd-4d7a-8e31-ac6148de2972",
   "metadata": {},
   "source": [
    "# Class#02 21/10/2023 Topic: Variables, Arithmetic, Comparison and Assignment Operators"
   ]
  },
  {
   "cell_type": "markdown",
   "id": "a6a3fe7c-a1e0-4326-aadc-02c13dfac183",
   "metadata": {},
   "source": [
    "Variables"
   ]
  },
  {
   "cell_type": "code",
   "execution_count": 10,
   "id": "1f30e9e5-d08f-4a70-b8dc-499dd4ab7a3f",
   "metadata": {},
   "outputs": [
    {
     "name": "stdout",
     "output_type": "stream",
     "text": [
      "5\n"
     ]
    }
   ],
   "source": [
    "var = 5\n",
    "print(var)"
   ]
  },
  {
   "cell_type": "markdown",
   "id": "279c0bc7-20ec-4e4a-8063-fe2c54afad51",
   "metadata": {},
   "source": [
    "Rule to Name a Variable"
   ]
  },
  {
   "cell_type": "markdown",
   "id": "ef2728d9-5bbd-4cc3-a076-bbffad4ccd3e",
   "metadata": {},
   "source": [
    "1. First Char Alphabet- Capital or Small (Mandatory)\n",
    "2. Digit or Special Char (*<^$#&%?!><|/) are not allowed as first char\n",
    "3. Digit are allowed in between - v1ar, var1, var_1, var_123\n",
    "4. Special Chars are not allowed in the name of the variable Except _\n",
    "5. Var name can start using _ as well "
   ]
  },
  {
   "cell_type": "markdown",
   "id": "dacfedc4-7868-4b2f-95e3-ca7f3307e050",
   "metadata": {},
   "source": [
    "Arithmetic Operators"
   ]
  },
  {
   "cell_type": "code",
   "execution_count": 8,
   "id": "7c1bdd8e-7d09-4302-9ffb-cc3bef4bb7c7",
   "metadata": {},
   "outputs": [
    {
     "name": "stdout",
     "output_type": "stream",
     "text": [
      "4\n",
      "1\n",
      "10\n",
      "5.0\n",
      "5\n",
      "2\n",
      "16\n"
     ]
    }
   ],
   "source": [
    "# Addition\n",
    "print(2+2)\n",
    "\n",
    "#substruction\n",
    "print(4-3)\n",
    "\n",
    "#multiplication\n",
    "print(5*2)\n",
    "\n",
    "#division\n",
    "print(10/2)\n",
    "\n",
    "#floor division\n",
    "print(10//2)\n",
    "\n",
    "#reminder\n",
    "print(10%4)\n",
    "\n",
    "#power\n",
    "print(2**4)"
   ]
  },
  {
   "cell_type": "markdown",
   "id": "ec0d4179-33f2-4b0f-b025-2805021d47ff",
   "metadata": {},
   "source": [
    "Comparison Operators"
   ]
  },
  {
   "cell_type": "code",
   "execution_count": 3,
   "id": "4dc9f8fc-cb3a-48a6-8b0f-40512ec6fe4d",
   "metadata": {},
   "outputs": [],
   "source": [
    "a=5\n",
    "b=10"
   ]
  },
  {
   "cell_type": "code",
   "execution_count": 14,
   "id": "9d1a7df6-fa15-4a35-b5a8-80f9e54246bf",
   "metadata": {},
   "outputs": [
    {
     "data": {
      "text/plain": [
       "False"
      ]
     },
     "execution_count": 14,
     "metadata": {},
     "output_type": "execute_result"
    }
   ],
   "source": [
    "a>b"
   ]
  },
  {
   "cell_type": "code",
   "execution_count": 16,
   "id": "a077e056-4f97-47bb-831a-09e46c522276",
   "metadata": {},
   "outputs": [
    {
     "data": {
      "text/plain": [
       "True"
      ]
     },
     "execution_count": 16,
     "metadata": {},
     "output_type": "execute_result"
    }
   ],
   "source": [
    "a<b"
   ]
  },
  {
   "cell_type": "code",
   "execution_count": 18,
   "id": "a536dd09-7b31-4430-ad70-08117815cae8",
   "metadata": {},
   "outputs": [
    {
     "data": {
      "text/plain": [
       "False"
      ]
     },
     "execution_count": 18,
     "metadata": {},
     "output_type": "execute_result"
    }
   ],
   "source": [
    "a>=b"
   ]
  },
  {
   "cell_type": "code",
   "execution_count": 20,
   "id": "1e3bd563-027e-428c-98bf-cb1cf4ea8b8c",
   "metadata": {},
   "outputs": [
    {
     "data": {
      "text/plain": [
       "False"
      ]
     },
     "execution_count": 20,
     "metadata": {},
     "output_type": "execute_result"
    }
   ],
   "source": [
    "a==b"
   ]
  },
  {
   "cell_type": "code",
   "execution_count": 24,
   "id": "15b06655-15bf-496f-992c-46f51b947a00",
   "metadata": {},
   "outputs": [
    {
     "data": {
      "text/plain": [
       "True"
      ]
     },
     "execution_count": 24,
     "metadata": {},
     "output_type": "execute_result"
    }
   ],
   "source": [
    "a!=b "
   ]
  },
  {
   "cell_type": "markdown",
   "id": "f37e6399-23ce-4ce8-9ed4-dd0381c50923",
   "metadata": {},
   "source": [
    "Assignment Operator"
   ]
  },
  {
   "cell_type": "raw",
   "id": "5727518f-e1c0-4b28-9b74-51221e5d8cbb",
   "metadata": {},
   "source": [
    "x = 5 \n",
    "x += 5\n",
    "x -= 5\n",
    "x *= 5\n",
    "x /= 5\n",
    "x //= 5\n",
    "x %= 5\n",
    "x **= 5"
   ]
  },
  {
   "cell_type": "markdown",
   "id": "aad7a6ee-0b25-48bd-879a-43025ddbd5c9",
   "metadata": {
    "tags": []
   },
   "source": [
    "# Class#03 13/11/2023 Topic: Logical Operator, List and FW/BW Indexing of a List"
   ]
  },
  {
   "cell_type": "markdown",
   "id": "e944468b-8308-4d64-8656-27b3aa478998",
   "metadata": {},
   "source": [
    "Logical Operator"
   ]
  },
  {
   "cell_type": "code",
   "execution_count": 26,
   "id": "c2fe2025-b522-49c6-9e23-06850feabeb5",
   "metadata": {},
   "outputs": [
    {
     "data": {
      "text/plain": [
       "True"
      ]
     },
     "execution_count": 26,
     "metadata": {},
     "output_type": "execute_result"
    }
   ],
   "source": [
    "a<b and a<=b"
   ]
  },
  {
   "cell_type": "code",
   "execution_count": 4,
   "id": "4a6cc47d-a162-443e-ba22-e6e8d049eb59",
   "metadata": {},
   "outputs": [
    {
     "data": {
      "text/plain": [
       "True"
      ]
     },
     "execution_count": 4,
     "metadata": {},
     "output_type": "execute_result"
    }
   ],
   "source": [
    "a<b or b>a"
   ]
  },
  {
   "cell_type": "code",
   "execution_count": 6,
   "id": "59098efd-8378-4fd9-8719-bfc3e921eb45",
   "metadata": {},
   "outputs": [
    {
     "data": {
      "text/plain": [
       "False"
      ]
     },
     "execution_count": 6,
     "metadata": {},
     "output_type": "execute_result"
    }
   ],
   "source": [
    "not b>a"
   ]
  },
  {
   "cell_type": "code",
   "execution_count": 8,
   "id": "26d06557-cb1a-4dd6-9a05-3748c0751631",
   "metadata": {},
   "outputs": [
    {
     "data": {
      "text/plain": [
       "True"
      ]
     },
     "execution_count": 8,
     "metadata": {},
     "output_type": "execute_result"
    }
   ],
   "source": [
    "5 in (5,6,7,8,9)"
   ]
  },
  {
   "cell_type": "code",
   "execution_count": 10,
   "id": "18043eb8-dee1-41c4-94e0-337ea3eb1186",
   "metadata": {},
   "outputs": [
    {
     "data": {
      "text/plain": [
       "False"
      ]
     },
     "execution_count": 10,
     "metadata": {},
     "output_type": "execute_result"
    }
   ],
   "source": [
    "5 not in (5,6,7,8,9)"
   ]
  },
  {
   "cell_type": "markdown",
   "id": "565fbea1-9256-407f-896c-a7fa59382f22",
   "metadata": {},
   "source": [
    "Data Types"
   ]
  },
  {
   "cell_type": "raw",
   "id": "95893ff4-e109-4dc4-a026-c086bbcab71c",
   "metadata": {},
   "source": [
    "int        45,87,45,897,644\n",
    "float      654.65, 5468.354,5648.889,8798789.9878779\n",
    "string     \"Hellow\", \"Banana\", \"Green\", \"jhon\",'5','d','&&&',\"85\"\n",
    "bool       True,False\n"
   ]
  },
  {
   "cell_type": "code",
   "execution_count": 8,
   "id": "1ee195f7-5989-4529-ab2f-6ab27ea15c25",
   "metadata": {},
   "outputs": [
    {
     "data": {
      "text/plain": [
       "str"
      ]
     },
     "execution_count": 8,
     "metadata": {},
     "output_type": "execute_result"
    }
   ],
   "source": [
    "var = '55.5'\n",
    "type(var)"
   ]
  },
  {
   "cell_type": "code",
   "execution_count": 11,
   "id": "0df2de85-6613-4a06-81b5-61d499f58bed",
   "metadata": {},
   "outputs": [
    {
     "data": {
      "text/plain": [
       "55.5"
      ]
     },
     "execution_count": 11,
     "metadata": {},
     "output_type": "execute_result"
    }
   ],
   "source": [
    "float(var)"
   ]
  },
  {
   "cell_type": "code",
   "execution_count": 13,
   "id": "894d9d8e-b565-4839-aa88-277e4f919157",
   "metadata": {},
   "outputs": [
    {
     "data": {
      "text/plain": [
       "55"
      ]
     },
     "execution_count": 13,
     "metadata": {},
     "output_type": "execute_result"
    }
   ],
   "source": [
    "int(float(var))"
   ]
  },
  {
   "cell_type": "markdown",
   "id": "c338f84c-2a70-4fb1-960e-70abb3b449ae",
   "metadata": {},
   "source": [
    "Data Structure "
   ]
  },
  {
   "cell_type": "raw",
   "id": "d7de6aa5-83de-42a3-86ff-e9e0b3be6fa3",
   "metadata": {},
   "source": [
    "1. List\n",
    "2. Tuple\n",
    "3. Set\n",
    "4. Dictionary "
   ]
  },
  {
   "cell_type": "markdown",
   "id": "64260bf5-2262-4502-a74a-61311113572f",
   "metadata": {},
   "source": [
    "List"
   ]
  },
  {
   "cell_type": "code",
   "execution_count": 59,
   "id": "02fa1cf5-cad2-4711-887f-c12fe4d334c6",
   "metadata": {
    "tags": []
   },
   "outputs": [
    {
     "data": {
      "text/plain": [
       "14"
      ]
     },
     "execution_count": 59,
     "metadata": {},
     "output_type": "execute_result"
    }
   ],
   "source": [
    "#         0  1  2  3  4  5  6  7  8  9 10 11 12 13   Index\n",
    "marks = [41,66,29,59,26,63,69,45,93,23,53,25,20,56]\n",
    "#       -14-13-12-11-10 -9 -8 -7 -6 -5 -4 -3 -2 -1   Negative index                     \n",
    "len(marks)"
   ]
  },
  {
   "cell_type": "code",
   "execution_count": 27,
   "id": "a8ede6c2-7a91-4d62-ae7b-2d79e77d240c",
   "metadata": {},
   "outputs": [
    {
     "data": {
      "text/plain": [
       "41"
      ]
     },
     "execution_count": 27,
     "metadata": {},
     "output_type": "execute_result"
    }
   ],
   "source": [
    "marks[-14]"
   ]
  },
  {
   "cell_type": "code",
   "execution_count": 3,
   "id": "28e30592-2399-489c-a9a3-ab85139f6235",
   "metadata": {},
   "outputs": [
    {
     "data": {
      "text/plain": [
       "12"
      ]
     },
     "execution_count": 3,
     "metadata": {},
     "output_type": "execute_result"
    }
   ],
   "source": [
    "marks.index(20)"
   ]
  },
  {
   "cell_type": "markdown",
   "id": "a202fddb-4e92-411a-bd7e-522eaa29e73a",
   "metadata": {},
   "source": [
    "Equation: List [start_index : end_index + 1 : intrval + 1]  Note: Interval use for Skipping values"
   ]
  },
  {
   "cell_type": "code",
   "execution_count": 36,
   "id": "7782f262-c792-43be-9a64-b1127857c884",
   "metadata": {},
   "outputs": [
    {
     "data": {
      "text/plain": [
       "[63, 45, 23]"
      ]
     },
     "execution_count": 36,
     "metadata": {},
     "output_type": "execute_result"
    }
   ],
   "source": [
    "marks[5:10:2]"
   ]
  },
  {
   "cell_type": "markdown",
   "id": "0dcab7e7-122a-4bc9-b539-008d8b217d6e",
   "metadata": {},
   "source": [
    "An Exception for Negative indexing:     List [start_index : end_index - 1 : intrval - 1] "
   ]
  },
  {
   "cell_type": "code",
   "execution_count": 3,
   "id": "e51e43ed-fa63-4a2e-a379-5bd5d3a8cd0b",
   "metadata": {
    "tags": []
   },
   "outputs": [
    {
     "data": {
      "text/plain": [
       "[20, 53, 93]"
      ]
     },
     "execution_count": 3,
     "metadata": {},
     "output_type": "execute_result"
    }
   ],
   "source": [
    "marks[-2:-7:-2]"
   ]
  },
  {
   "cell_type": "markdown",
   "id": "dd2a427e-323d-4d28-9a99-2a74f3f225c2",
   "metadata": {},
   "source": [
    "# Class#04 Date: 16/11/2023"
   ]
  },
  {
   "cell_type": "raw",
   "id": "e04fd905-532b-4d4c-9b62-d917475d9174",
   "metadata": {},
   "source": [
    "sum, min, max, count, mean, len, type"
   ]
  },
  {
   "cell_type": "code",
   "execution_count": 61,
   "id": "b943dd46-f8fe-453e-a7f2-bc0aa1ed4be7",
   "metadata": {
    "tags": []
   },
   "outputs": [],
   "source": [
    "marks = [41,66,29,59,26,63,69,45,93,23,53,25,20,56]"
   ]
  },
  {
   "cell_type": "code",
   "execution_count": 5,
   "id": "97bd0a78-2739-4dcb-b62b-8c24c9d2d655",
   "metadata": {
    "tags": []
   },
   "outputs": [
    {
     "data": {
      "text/plain": [
       "668"
      ]
     },
     "execution_count": 5,
     "metadata": {},
     "output_type": "execute_result"
    }
   ],
   "source": [
    "sum(marks)"
   ]
  },
  {
   "cell_type": "code",
   "execution_count": 6,
   "id": "9b59e394-485a-4f97-bcb3-18649028c871",
   "metadata": {
    "tags": []
   },
   "outputs": [
    {
     "data": {
      "text/plain": [
       "20"
      ]
     },
     "execution_count": 6,
     "metadata": {},
     "output_type": "execute_result"
    }
   ],
   "source": [
    "min(marks)"
   ]
  },
  {
   "cell_type": "code",
   "execution_count": 7,
   "id": "54b3485e-5205-4757-875b-42acad875816",
   "metadata": {
    "tags": []
   },
   "outputs": [
    {
     "data": {
      "text/plain": [
       "93"
      ]
     },
     "execution_count": 7,
     "metadata": {},
     "output_type": "execute_result"
    }
   ],
   "source": [
    "max(marks)"
   ]
  },
  {
   "cell_type": "code",
   "execution_count": 8,
   "id": "21e9a1fe-4e9e-4a7f-9acd-fafaed682a19",
   "metadata": {
    "tags": []
   },
   "outputs": [
    {
     "data": {
      "text/plain": [
       "14"
      ]
     },
     "execution_count": 8,
     "metadata": {},
     "output_type": "execute_result"
    }
   ],
   "source": [
    "len(marks)"
   ]
  },
  {
   "cell_type": "code",
   "execution_count": 10,
   "id": "fe434d6b-5318-4f47-85d4-f9a46ebe74ce",
   "metadata": {
    "tags": []
   },
   "outputs": [
    {
     "data": {
      "text/plain": [
       "47.714285714285715"
      ]
     },
     "execution_count": 10,
     "metadata": {},
     "output_type": "execute_result"
    }
   ],
   "source": [
    "sum(marks)/14"
   ]
  },
  {
   "cell_type": "code",
   "execution_count": 12,
   "id": "a676efc8-ae73-4a3f-b029-905c183f142c",
   "metadata": {
    "tags": []
   },
   "outputs": [
    {
     "data": {
      "text/plain": [
       "1"
      ]
     },
     "execution_count": 12,
     "metadata": {},
     "output_type": "execute_result"
    }
   ],
   "source": [
    "marks.count(63)"
   ]
  },
  {
   "cell_type": "raw",
   "id": "7a8bc02e-3624-46b1-a7f9-145d05771e2f",
   "metadata": {},
   "source": [
    "List is Mutable(Changable)"
   ]
  },
  {
   "cell_type": "raw",
   "id": "adbb8138-ba9a-44db-b1a5-2c6e9729a48d",
   "metadata": {},
   "source": [
    "Add: 1) Append 2) Insert 3) Extend"
   ]
  },
  {
   "cell_type": "code",
   "execution_count": 13,
   "id": "853a6eb8-4695-478a-9b76-6edad6d67a09",
   "metadata": {
    "tags": []
   },
   "outputs": [
    {
     "data": {
      "text/plain": [
       "[41, 66, 29, 59, 26, 63, 69, 45, 93, 23, 53, 25, 20, 56]"
      ]
     },
     "execution_count": 13,
     "metadata": {},
     "output_type": "execute_result"
    }
   ],
   "source": [
    "marks"
   ]
  },
  {
   "cell_type": "code",
   "execution_count": 15,
   "id": "94d59918-396c-4e2f-bf01-42a05b8cce40",
   "metadata": {
    "tags": []
   },
   "outputs": [],
   "source": [
    "marks.append(100)"
   ]
  },
  {
   "cell_type": "code",
   "execution_count": 16,
   "id": "928471c8-604f-47fb-9c1f-e6839794e542",
   "metadata": {
    "tags": []
   },
   "outputs": [
    {
     "data": {
      "text/plain": [
       "[41, 66, 29, 59, 26, 63, 69, 45, 93, 23, 53, 25, 20, 56, 100, 100]"
      ]
     },
     "execution_count": 16,
     "metadata": {},
     "output_type": "execute_result"
    }
   ],
   "source": [
    "marks"
   ]
  },
  {
   "cell_type": "code",
   "execution_count": 18,
   "id": "99d3c350-cc01-4b4a-a2b8-b366d8caa9c2",
   "metadata": {
    "tags": []
   },
   "outputs": [],
   "source": [
    "marks.insert(2,100)"
   ]
  },
  {
   "cell_type": "code",
   "execution_count": 20,
   "id": "d5c49d65-8f2f-4daf-a8fe-deb175693c91",
   "metadata": {
    "tags": []
   },
   "outputs": [
    {
     "data": {
      "text/plain": [
       "[41, 66, 100, 100, 29, 59, 26, 63, 69, 45, 93, 23, 53, 25, 20, 56, 100, 100]"
      ]
     },
     "execution_count": 20,
     "metadata": {},
     "output_type": "execute_result"
    }
   ],
   "source": [
    "marks"
   ]
  },
  {
   "cell_type": "raw",
   "id": "6a0e7778-2f79-4c9f-af6c-24fd68cb0a16",
   "metadata": {
    "tags": []
   },
   "source": [
    "Remove: 1) Remove 2) POP 3) Del 4) Clear"
   ]
  },
  {
   "cell_type": "code",
   "execution_count": 23,
   "id": "8499c247-a835-4e21-b441-6b9d17393082",
   "metadata": {
    "tags": []
   },
   "outputs": [
    {
     "data": {
      "text/plain": [
       "[41, 66, 100, 100, 29, 59, 26, 63, 69, 45, 93, 23, 53, 25, 20, 56, 100, 100]"
      ]
     },
     "execution_count": 23,
     "metadata": {},
     "output_type": "execute_result"
    }
   ],
   "source": [
    "marks1 = marks\n",
    "marks1"
   ]
  },
  {
   "cell_type": "code",
   "execution_count": 25,
   "id": "205fbeb0-63da-40ba-802a-256aeabe5e34",
   "metadata": {
    "tags": []
   },
   "outputs": [
    {
     "data": {
      "text/plain": [
       "[41, 66, 29, 59, 26, 63, 69, 45, 93, 23, 53, 25, 20, 56, 100, 100]"
      ]
     },
     "execution_count": 25,
     "metadata": {},
     "output_type": "execute_result"
    }
   ],
   "source": [
    "marks1.remove(100) # Remove through elements\n",
    "marks1"
   ]
  },
  {
   "cell_type": "code",
   "execution_count": 27,
   "id": "479d03af-aead-40a5-852c-2fc85904d75d",
   "metadata": {
    "tags": []
   },
   "outputs": [
    {
     "data": {
      "text/plain": [
       "16"
      ]
     },
     "execution_count": 27,
     "metadata": {},
     "output_type": "execute_result"
    }
   ],
   "source": [
    "len(marks1)"
   ]
  },
  {
   "cell_type": "code",
   "execution_count": 29,
   "id": "9ae7880d-7a76-4407-8c26-c08a083c5262",
   "metadata": {
    "tags": []
   },
   "outputs": [
    {
     "data": {
      "text/plain": [
       "[41, 66, 29, 59, 26, 63, 69, 45, 93, 23, 53, 25, 20, 56, 100]"
      ]
     },
     "execution_count": 29,
     "metadata": {},
     "output_type": "execute_result"
    }
   ],
   "source": [
    "marks1.pop(15)  # Remove through Index position\n",
    "marks1"
   ]
  },
  {
   "cell_type": "code",
   "execution_count": 30,
   "id": "44a467b4-45d2-4be4-bab4-cc112a2b16c9",
   "metadata": {
    "tags": []
   },
   "outputs": [
    {
     "data": {
      "text/plain": [
       "[41, 66, 63, 69, 45, 93, 23, 53, 25, 20, 56, 100]"
      ]
     },
     "execution_count": 30,
     "metadata": {},
     "output_type": "execute_result"
    }
   ],
   "source": [
    "del marks1[2:5]  # Slice Remove through Index position\n",
    "marks1"
   ]
  },
  {
   "cell_type": "code",
   "execution_count": 32,
   "id": "c7583c9f-34c8-4db0-853b-d7f0df95eb6c",
   "metadata": {
    "tags": []
   },
   "outputs": [
    {
     "data": {
      "text/plain": [
       "[]"
      ]
     },
     "execution_count": 32,
     "metadata": {},
     "output_type": "execute_result"
    }
   ],
   "source": [
    "marks1.clear() #Empty List\n",
    "marks1"
   ]
  },
  {
   "cell_type": "code",
   "execution_count": 34,
   "id": "a07b65d9-5d4f-4822-9e39-d6a3e3457a10",
   "metadata": {
    "tags": []
   },
   "outputs": [
    {
     "ename": "NameError",
     "evalue": "name 'marks1' is not defined",
     "output_type": "error",
     "traceback": [
      "\u001b[1;31m---------------------------------------------------------------------------\u001b[0m",
      "\u001b[1;31mNameError\u001b[0m                                 Traceback (most recent call last)",
      "Cell \u001b[1;32mIn[34], line 1\u001b[0m\n\u001b[1;32m----> 1\u001b[0m \u001b[38;5;28;01mdel\u001b[39;00m marks1 \u001b[38;5;66;03m# Delete whole List Conteiner \u001b[39;00m\n\u001b[0;32m      2\u001b[0m marks1\n",
      "\u001b[1;31mNameError\u001b[0m: name 'marks1' is not defined"
     ]
    }
   ],
   "source": [
    "del marks1 # Delete whole List Conteiner \n",
    "marks1"
   ]
  },
  {
   "cell_type": "code",
   "execution_count": 63,
   "id": "f3fb174d-702c-4e75-a7b9-ed9143565fb5",
   "metadata": {
    "tags": []
   },
   "outputs": [],
   "source": [
    "marks = [41,66,29,59,26,63,69,45,93,23,53,25,20,56]"
   ]
  },
  {
   "cell_type": "code",
   "execution_count": 50,
   "id": "ad518676-b56d-4f27-ac66-52982c2cf4f4",
   "metadata": {
    "tags": []
   },
   "outputs": [
    {
     "data": {
      "text/plain": [
       "[41, 66, 29, 59, 26, 63, 69, 45, 93, 23, 53, 25, 20, 56]"
      ]
     },
     "execution_count": 50,
     "metadata": {},
     "output_type": "execute_result"
    }
   ],
   "source": [
    "marks1 = marks\n",
    "marks1"
   ]
  },
  {
   "cell_type": "code",
   "execution_count": 51,
   "id": "3cd71be1-a3b9-485e-85a0-fb0dd01cfac6",
   "metadata": {
    "tags": []
   },
   "outputs": [
    {
     "data": {
      "text/plain": [
       "[3, 6, 9, 41, 66, 29, 59, 26, 63, 69, 45, 93, 23, 53, 25, 20, 56]"
      ]
     },
     "execution_count": 51,
     "metadata": {},
     "output_type": "execute_result"
    }
   ],
   "source": [
    "marks = [3,6,9]\n",
    "marks.extend(marks1)\n",
    "marks"
   ]
  },
  {
   "cell_type": "raw",
   "id": "77fc882e-3745-4473-98fd-37bfc463afc1",
   "metadata": {
    "tags": []
   },
   "source": [
    "List and Tuple are almost same except immutable. Tuple Can not Change the value of variable\n",
    "It is one of the most least function of python"
   ]
  },
  {
   "cell_type": "code",
   "execution_count": 53,
   "id": "44151056-d02c-4d85-bce7-faf29d11e1be",
   "metadata": {
    "tags": []
   },
   "outputs": [
    {
     "data": {
      "text/plain": [
       "tuple"
      ]
     },
     "execution_count": 53,
     "metadata": {},
     "output_type": "execute_result"
    }
   ],
   "source": [
    "var = (7,8,9,4,5,6)\n",
    "type(var)"
   ]
  },
  {
   "cell_type": "code",
   "execution_count": 65,
   "id": "71dac1ad-905f-4c73-a74d-d37fcc981f7f",
   "metadata": {
    "tags": []
   },
   "outputs": [
    {
     "data": {
      "text/plain": [
       "([6, 7, 8], 1, 2, 3)"
      ]
     },
     "execution_count": 65,
     "metadata": {},
     "output_type": "execute_result"
    }
   ],
   "source": [
    "var = ([6,7,8], 1, 2, 3)\n",
    "var"
   ]
  },
  {
   "cell_type": "code",
   "execution_count": 55,
   "id": "801d0dcf-8d08-4a5c-aff6-113a84215ac9",
   "metadata": {
    "tags": []
   },
   "outputs": [
    {
     "data": {
      "text/plain": [
       "([6, 7, 88], 1, 2, 3)"
      ]
     },
     "execution_count": 55,
     "metadata": {},
     "output_type": "execute_result"
    }
   ],
   "source": [
    "var[0][2]=88\n",
    "var"
   ]
  },
  {
   "cell_type": "raw",
   "id": "95a7fdce-df06-4ad9-bedb-e826fc96c7e6",
   "metadata": {},
   "source": [
    "\n",
    "\n",
    "Set: \n",
    "Unordered\n",
    "Unique\n",
    "indexing not supported\n",
    "slicing not supported\n",
    "mutable\n",
    "\n",
    "List: \n",
    "Ordered\n",
    "dublicate supported\n",
    "indexing\n",
    "slicing\n",
    "mutable\n"
   ]
  },
  {
   "cell_type": "code",
   "execution_count": 4,
   "id": "1378510c-76a4-4524-bb81-cede0270a820",
   "metadata": {
    "tags": []
   },
   "outputs": [
    {
     "data": {
      "text/plain": [
       "{3}"
      ]
     },
     "execution_count": 4,
     "metadata": {},
     "output_type": "execute_result"
    }
   ],
   "source": [
    "s1 = {1,2,3}\n",
    "s2 = {3,4,5}\n",
    "s1.intersection(s2)"
   ]
  },
  {
   "cell_type": "code",
   "execution_count": 60,
   "id": "484bee5e-f615-4883-8ae8-66db6200ea4c",
   "metadata": {
    "tags": []
   },
   "outputs": [
    {
     "data": {
      "text/plain": [
       "{1, 2, 3, 4, 5}"
      ]
     },
     "execution_count": 60,
     "metadata": {},
     "output_type": "execute_result"
    }
   ],
   "source": [
    "s1.union(s2)"
   ]
  },
  {
   "cell_type": "code",
   "execution_count": 61,
   "id": "c77d8414-c307-485d-a638-4774a93f77fd",
   "metadata": {
    "tags": []
   },
   "outputs": [
    {
     "data": {
      "text/plain": [
       "{1, 2}"
      ]
     },
     "execution_count": 61,
     "metadata": {},
     "output_type": "execute_result"
    }
   ],
   "source": [
    "s1.difference(s2)"
   ]
  },
  {
   "cell_type": "code",
   "execution_count": 6,
   "id": "d793cdc5-1d9f-48fc-8a77-1d5c4e1a8e7b",
   "metadata": {
    "tags": []
   },
   "outputs": [
    {
     "data": {
      "text/plain": [
       "{4, 5}"
      ]
     },
     "execution_count": 6,
     "metadata": {},
     "output_type": "execute_result"
    }
   ],
   "source": [
    "s2.difference(s1)"
   ]
  },
  {
   "cell_type": "markdown",
   "id": "f95d96b4-e5e1-4662-b4d4-ae4d14a58cb4",
   "metadata": {},
   "source": [
    "# Class#05 at 21/11/2023 Topic: Dictionary"
   ]
  },
  {
   "cell_type": "code",
   "execution_count": 22,
   "id": "36b4117e-e8da-4b10-b2ea-33a485816bec",
   "metadata": {
    "tags": []
   },
   "outputs": [
    {
     "data": {
      "text/plain": [
       "dict"
      ]
     },
     "execution_count": 22,
     "metadata": {},
     "output_type": "execute_result"
    }
   ],
   "source": [
    "dictionary = {11:19, 22:29, 33:39, 44:49, 55:59, 66:69, 77:79, 88:89, 99:99}\n",
    "type(dictionary)"
   ]
  },
  {
   "cell_type": "code",
   "execution_count": 16,
   "id": "a5800736-4460-4c4a-924e-36e2092ba252",
   "metadata": {
    "tags": []
   },
   "outputs": [
    {
     "data": {
      "text/plain": [
       "49"
      ]
     },
     "execution_count": 16,
     "metadata": {},
     "output_type": "execute_result"
    }
   ],
   "source": [
    "dictionary[44] # Print key's value"
   ]
  },
  {
   "cell_type": "code",
   "execution_count": 20,
   "id": "3d1c7227-b591-49e1-94ad-4471ddf91f28",
   "metadata": {
    "tags": []
   },
   "outputs": [
    {
     "data": {
      "text/plain": [
       "dict_keys([11, 22, 33, 44, 55, 66, 77, 88, 99])"
      ]
     },
     "execution_count": 20,
     "metadata": {},
     "output_type": "execute_result"
    }
   ],
   "source": [
    "dictionary.keys() # Show all Keys"
   ]
  },
  {
   "cell_type": "code",
   "execution_count": 22,
   "id": "01739ce1-0355-4de3-9673-8694511ae23d",
   "metadata": {
    "tags": []
   },
   "outputs": [
    {
     "data": {
      "text/plain": [
       "dict_values([19, 29, 39, 49, 59, 69, 79, 89, 99])"
      ]
     },
     "execution_count": 22,
     "metadata": {},
     "output_type": "execute_result"
    }
   ],
   "source": [
    "dictionary.values()  # Show all Values"
   ]
  },
  {
   "cell_type": "code",
   "execution_count": 26,
   "id": "ce26db3b-06b3-444b-bc2a-d81df8c84c61",
   "metadata": {
    "tags": []
   },
   "outputs": [
    {
     "data": {
      "text/plain": [
       "dict_items([(11, 19), (22, 29), (33, 39), (44, 49), (55, 59), (66, 69), (77, 79), (88, 89), (99, 99)])"
      ]
     },
     "execution_count": 26,
     "metadata": {},
     "output_type": "execute_result"
    }
   ],
   "source": [
    "dictionary.items() # How many key, value pear in the Dictionary"
   ]
  },
  {
   "cell_type": "code",
   "execution_count": 33,
   "id": "fc960299-c3ee-477f-b615-46f53e303cee",
   "metadata": {
    "tags": []
   },
   "outputs": [
    {
     "data": {
      "text/plain": [
       "{11: 900, 22: 29, 33: 39, 44: 49, 55: 59, 66: 69, 77: 79, 88: 89, 99: 99}"
      ]
     },
     "execution_count": 33,
     "metadata": {},
     "output_type": "execute_result"
    }
   ],
   "source": [
    "dictionary[11]=900 # If need to change any key's of value\n",
    "dictionary"
   ]
  },
  {
   "cell_type": "code",
   "execution_count": 35,
   "id": "e24b44aa-fb48-4733-83c3-549afbcaf447",
   "metadata": {
    "tags": []
   },
   "outputs": [
    {
     "data": {
      "text/plain": [
       "{22: 29, 33: 39, 44: 49, 55: 59, 66: 69, 77: 79, 88: 89, 99: 99}"
      ]
     },
     "execution_count": 35,
     "metadata": {},
     "output_type": "execute_result"
    }
   ],
   "source": [
    "dictionary1 = dictionary\n",
    "del dictionary1[11]  # if need to remove any pear of the dictionary\n",
    "dictionary1"
   ]
  },
  {
   "cell_type": "code",
   "execution_count": 24,
   "id": "d1e3322f-0048-4618-ac7d-f984cd4fa589",
   "metadata": {
    "tags": []
   },
   "outputs": [
    {
     "name": "stdout",
     "output_type": "stream",
     "text": [
      "{'a': 4, 6: 'b', 'c': 'd', 11: 19, 22: 29, 33: 39, 44: 49, 55: 59, 66: 69, 77: 79, 88: 89, 99: 99}"
     ]
    }
   ],
   "source": [
    "n_dict = {'a':4, 6:'b', 'c':'d'}\n",
    "n_dict.update(dictionary) # Add tow dictionary\n",
    "print(n_dict, end='')"
   ]
  },
  {
   "cell_type": "code",
   "execution_count": 41,
   "id": "5ca4921e-b495-4b1b-a36b-a07ad8def9f2",
   "metadata": {
    "tags": []
   },
   "outputs": [
    {
     "data": {
      "text/plain": [
       "{1: 'one'}"
      ]
     },
     "execution_count": 41,
     "metadata": {},
     "output_type": "execute_result"
    }
   ],
   "source": [
    "dub_key = {1:'one', 1.0:'one'}\n",
    "dub_key"
   ]
  },
  {
   "cell_type": "code",
   "execution_count": 49,
   "id": "0717dfb1-772c-4d35-b09f-38044bf99c50",
   "metadata": {
    "tags": []
   },
   "outputs": [
    {
     "data": {
      "text/plain": [
       "{1: 'one', 1.1: 'one'}"
      ]
     },
     "execution_count": 49,
     "metadata": {},
     "output_type": "execute_result"
    }
   ],
   "source": [
    "db_key = {1:'one', 1.1:'one'}\n",
    "db_key"
   ]
  },
  {
   "cell_type": "code",
   "execution_count": 55,
   "id": "01fa2885-d0af-44ca-bd92-ecb1b7bbb608",
   "metadata": {
    "tags": []
   },
   "outputs": [
    {
     "data": {
      "text/plain": [
       "{'girls': {'g1': {'p': 99, 'c': 55}, 'g2': 33, 'g3': 77},\n",
       " 'boys': {'b1': 22, 'b2': 11, 'b3': 99}}"
      ]
     },
     "execution_count": 55,
     "metadata": {},
     "output_type": "execute_result"
    }
   ],
   "source": [
    "classroom = {'girls':{'g1':{'p':99, 'c':55}, 'g2':33, 'g3':77}, 'boys':{'b1':22, 'b2':11, 'b3':99}}\n",
    "classroom"
   ]
  },
  {
   "cell_type": "code",
   "execution_count": 59,
   "id": "84bed5d5-fc10-4f0a-9a9f-b60fc5c23921",
   "metadata": {
    "tags": []
   },
   "outputs": [
    {
     "data": {
      "text/plain": [
       "{'girls': {'g1': {'p': 99, 'c': 66}, 'g2': 33, 'g3': 77},\n",
       " 'boys': {'b1': 22, 'b2': 11, 'b3': 99}}"
      ]
     },
     "execution_count": 59,
     "metadata": {},
     "output_type": "execute_result"
    }
   ],
   "source": [
    "classroom['girls']['g1']['c']=66 # How to change value of nested dictionary\n",
    "classroom"
   ]
  },
  {
   "cell_type": "markdown",
   "id": "3be782ce-2a96-431b-a99f-0c4f9a8c482d",
   "metadata": {},
   "source": [
    "# Class#06 26/11/2023 Topic: Loops and Conditons"
   ]
  },
  {
   "cell_type": "raw",
   "id": "d526f5fa-b8ae-4b21-ad1c-7f4b1d4dcef7",
   "metadata": {},
   "source": [
    "Condition: if, elif, else"
   ]
  },
  {
   "cell_type": "code",
   "execution_count": 69,
   "id": "322282a1-e3e8-4759-8c57-03bf94d4eb21",
   "metadata": {
    "tags": []
   },
   "outputs": [
    {
     "name": "stdin",
     "output_type": "stream",
     "text": [
      "mark:  59.9\n"
     ]
    },
    {
     "name": "stdout",
     "output_type": "stream",
     "text": [
      "Result is B\n"
     ]
    }
   ],
   "source": [
    "mark = float(input('mark: '))\n",
    "if mark>=90 and mark<=100:\n",
    "    print('Result is A+')\n",
    "elif mark<=89 and mark>=79:\n",
    "    print('Result is A')\n",
    "elif mark<79 and mark>=69:\n",
    "    print('Result is A-')\n",
    "elif mark<69 and mark>=59:\n",
    "    print('Result is B')\n",
    "elif mark<59 and mark>=49:\n",
    "    print('Result is C')\n",
    "elif mark<49 and mark>=0:\n",
    "    print('You are not Qualified')\n",
    "else:\n",
    "    print('invalid input...!!!!')"
   ]
  },
  {
   "cell_type": "code",
   "execution_count": 25,
   "id": "795b1cc9-b3ac-4762-a143-69820956db22",
   "metadata": {
    "tags": []
   },
   "outputs": [
    {
     "name": "stdin",
     "output_type": "stream",
     "text": [
      "Insert Your Mark:  90\n"
     ]
    },
    {
     "name": "stdout",
     "output_type": "stream",
     "text": [
      "Your Result is: A+\n"
     ]
    },
    {
     "name": "stdin",
     "output_type": "stream",
     "text": [
      "Do you want to continue? (y/n)  y\n",
      "Insert Your Mark:  55.6\n"
     ]
    },
    {
     "name": "stdout",
     "output_type": "stream",
     "text": [
      "Your Result is: C\n"
     ]
    },
    {
     "name": "stdin",
     "output_type": "stream",
     "text": [
      "Do you want to continue? (y/n)  n\n"
     ]
    }
   ],
   "source": [
    "flag = True\n",
    "while flag:\n",
    "    marks = float(input('Insert Your Mark: '))\n",
    "\n",
    "    if marks >= 90 and marks <= 100:\n",
    "        print(\"Your Result is: A+\")\n",
    "    elif marks <= 89 and marks >= 79:\n",
    "        print(\"Your Result is: A\")  \n",
    "    elif marks < 79 and marks >= 69:\n",
    "        print(\"Your Result is: A-\")\n",
    "    elif marks < 69 and marks >= 59:\n",
    "        print(\"Your Result is: B\")\n",
    "    elif marks < 59 and marks >= 49:\n",
    "        print(\"Your Result is: C\")\n",
    "    elif marks < 49 and marks >= 0:\n",
    "        print(\"You are not Qualified\")\n",
    "    elif marks > 100 or marks < 0:\n",
    "        print(\"Invalid input..!!!\")\n",
    "    else:\n",
    "        print(\"Invalid input. Please enter a mark between 0 and 100.\")\n",
    "        \n",
    "    if input(\"Do you want to continue? (y/n) \") != \"y\":\n",
    "        flag = False"
   ]
  },
  {
   "cell_type": "markdown",
   "id": "6fde1179-6ce8-448f-97ec-023e2cba58ee",
   "metadata": {},
   "source": [
    "How would you modify the program to print \"Positive\" if the number is greater than zero and \"Negative\" if it's less than zero?"
   ]
  },
  {
   "cell_type": "code",
   "execution_count": 16,
   "id": "1251fb8d-1bb4-462f-83f0-bfa712debd2d",
   "metadata": {
    "tags": []
   },
   "outputs": [
    {
     "name": "stdin",
     "output_type": "stream",
     "text": [
      "Please Enter Your Number:  1\n"
     ]
    },
    {
     "name": "stdout",
     "output_type": "stream",
     "text": [
      "Positive\n"
     ]
    }
   ],
   "source": [
    "n = int(input('Please Enter Your Number: '))\n",
    "if n>0:\n",
    "    print('Positive')\n",
    "elif n<0:\n",
    "    print('Negative')"
   ]
  },
  {
   "cell_type": "markdown",
   "id": "f58ac67f-cfaa-4ef3-b573-0c4381711c1b",
   "metadata": {},
   "source": [
    "Write a program that prompts the user for their age and prints different messages based on whether they are a child, a teenager, or an adult."
   ]
  },
  {
   "cell_type": "code",
   "execution_count": 14,
   "id": "013491cb-a9ef-435f-9eb9-ba9408a3ac8e",
   "metadata": {
    "tags": []
   },
   "outputs": [
    {
     "name": "stdin",
     "output_type": "stream",
     "text": [
      "Please Enter Your Age:  7\n"
     ]
    },
    {
     "name": "stdout",
     "output_type": "stream",
     "text": [
      "Child\n"
     ]
    }
   ],
   "source": [
    "age = int(input('Please Enter Your Age: '))\n",
    "if age>=25:\n",
    "    print('Adult')\n",
    "elif age<25 and age>=15:\n",
    "    print('Teenager')\n",
    "elif age<15 and age>0:\n",
    "    print('Child')\n",
    "else:\n",
    "    print('invalid input...!!!')"
   ]
  },
  {
   "cell_type": "markdown",
   "id": "c951c962-b95e-4f94-b835-194619afc196",
   "metadata": {},
   "source": [
    "Can you modify the function to print a custom message if the number is divisible by 2 or 3, but not both?"
   ]
  },
  {
   "cell_type": "code",
   "execution_count": 12,
   "id": "fcafe3e9-5b50-4514-ada4-1c3f0efc0ee4",
   "metadata": {
    "tags": []
   },
   "outputs": [
    {
     "name": "stdin",
     "output_type": "stream",
     "text": [
      "Please Enter Your Number:  27\n"
     ]
    },
    {
     "name": "stdout",
     "output_type": "stream",
     "text": [
      "This Number is divisible by 3\n"
     ]
    }
   ],
   "source": [
    "n = int(input('Please Enter Your Number: '))\n",
    "if n%2 == 0:\n",
    "    print('This Number is divisible by 2')\n",
    "elif n%3 == 0:\n",
    "    print('This Number is divisible by 3')\n",
    "else:\n",
    "    print('Your number is not divisible by 2 or 3')"
   ]
  },
  {
   "cell_type": "markdown",
   "id": "5befb27b-e8e4-47f0-8468-cc0f05e0ff58",
   "metadata": {},
   "source": [
    "Write a Python script that takes a user's input and checks if it contains the word \"Python\"."
   ]
  },
  {
   "cell_type": "code",
   "execution_count": 28,
   "id": "aba40519-0ff8-491d-8f41-0214d9772ee7",
   "metadata": {
    "tags": []
   },
   "outputs": [
    {
     "name": "stdin",
     "output_type": "stream",
     "text": [
      "Please Enter Your Word:  python\n"
     ]
    },
    {
     "name": "stdout",
     "output_type": "stream",
     "text": [
      "Yes, your mentiond word is python\n"
     ]
    }
   ],
   "source": [
    "w = input('Please Enter Your Word: ')\n",
    "if w=='python':\n",
    "    print('Yes, your mentiond word is python')\n",
    "else:\n",
    "    print('Your mentiond word is not python')"
   ]
  },
  {
   "cell_type": "raw",
   "id": "28e9d61f-7ec9-410a-ab69-ab2e6a16977d",
   "metadata": {},
   "source": [
    "Loop: for, while, break and continue"
   ]
  },
  {
   "cell_type": "code",
   "execution_count": 2,
   "id": "9ff6aadf-a208-407a-8794-c1a7ed2067e7",
   "metadata": {
    "tags": []
   },
   "outputs": [],
   "source": [
    "list = [9,8,7,6,5,4]"
   ]
  },
  {
   "cell_type": "code",
   "execution_count": 14,
   "id": "0701f3fa-67f2-4221-8a98-3bc16dd0d13d",
   "metadata": {
    "tags": []
   },
   "outputs": [
    {
     "data": {
      "text/plain": [
       "[9, 64, 7, 6, 5, 4]"
      ]
     },
     "execution_count": 14,
     "metadata": {},
     "output_type": "execute_result"
    }
   ],
   "source": [
    "list[1]=8**2\n",
    "list"
   ]
  },
  {
   "cell_type": "code",
   "execution_count": 18,
   "id": "213eae75-b974-4adb-96ce-9da001433db6",
   "metadata": {
    "tags": []
   },
   "outputs": [
    {
     "name": "stdout",
     "output_type": "stream",
     "text": [
      "81 4096 49 36 25 16 "
     ]
    }
   ],
   "source": [
    "for element in list:\n",
    "    print(element**2, end=' ')"
   ]
  },
  {
   "cell_type": "code",
   "execution_count": 114,
   "id": "0593820c-da72-4eb7-b1cb-e461c995cf31",
   "metadata": {
    "tags": []
   },
   "outputs": [
    {
     "name": "stdout",
     "output_type": "stream",
     "text": [
      "Loop Break:  9\n",
      "Loop Break:  8\n",
      "Loop Break:  7\n",
      "Loop Break:  6\n"
     ]
    }
   ],
   "source": [
    "# Breal Operation of While\n",
    "n = 10\n",
    "while n>0:\n",
    "    n = n-1\n",
    "    if n == 5:\n",
    "        break\n",
    "    print('Loop Break: ',n)"
   ]
  },
  {
   "cell_type": "code",
   "execution_count": 45,
   "id": "9838745a-b7ac-4e85-9188-7f02488242e6",
   "metadata": {
    "tags": []
   },
   "outputs": [
    {
     "name": "stdout",
     "output_type": "stream",
     "text": [
      "Loop Continue:  9\n",
      "Loop Continue:  8\n",
      "Loop Continue:  7\n",
      "Loop Continue:  6\n",
      "Loop Continue:  5\n",
      "Loop Continue:  4\n",
      "Loop Continue:  2\n",
      "Loop Continue:  1\n",
      "Loop Continue:  0\n"
     ]
    }
   ],
   "source": [
    "# Continue operation of While\n",
    "n=10\n",
    "while n>0:\n",
    "    n = n-1\n",
    "    if n == 3:\n",
    "        continue\n",
    "    print('Loop Continue: ',n)"
   ]
  },
  {
   "cell_type": "code",
   "execution_count": 53,
   "id": "b54b346b-a914-4d1e-9a7d-74a7eca3b7a9",
   "metadata": {
    "tags": []
   },
   "outputs": [
    {
     "name": "stdout",
     "output_type": "stream",
     "text": [
      "Odd number are:  1\n",
      "Odd number are:  3\n",
      "Odd number are:  5\n",
      "Odd number are:  7\n",
      "Odd number are:  9\n"
     ]
    }
   ],
   "source": [
    "# Find Odd Number using For Loop\n",
    "for odd in range(1,11,2):\n",
    "    print('Odd numbers are: ',odd)"
   ]
  },
  {
   "cell_type": "code",
   "execution_count": 55,
   "id": "3aa2c896-11e0-48ee-8aa4-28c579964a4d",
   "metadata": {
    "tags": []
   },
   "outputs": [
    {
     "name": "stdout",
     "output_type": "stream",
     "text": [
      "Even Numbers are:  0\n",
      "Even Numbers are:  2\n",
      "Even Numbers are:  4\n",
      "Even Numbers are:  6\n",
      "Even Numbers are:  8\n",
      "Even Numbers are:  10\n"
     ]
    }
   ],
   "source": [
    "# Find Even Number using For Loop\n",
    "for even in range(0,11,2):\n",
    "    print('Even Numbers are: ', even)"
   ]
  },
  {
   "cell_type": "code",
   "execution_count": 74,
   "id": "b98a031c-78c2-4cfd-a7a1-19bca339ffff",
   "metadata": {
    "tags": []
   },
   "outputs": [
    {
     "name": "stdin",
     "output_type": "stream",
     "text": [
      "Enter Number:  5\n"
     ]
    },
    {
     "name": "stdout",
     "output_type": "stream",
     "text": [
      "    * \n",
      "   * * \n",
      "  * * * \n",
      " * * * * \n",
      "* * * * * \n"
     ]
    }
   ],
   "source": [
    "# Print Star Pyramid\n",
    "star = int(input('Enter Number: '))\n",
    "k = star-1\n",
    "for i in range(0, star):\n",
    "    for j in range(0, k):\n",
    "        print(end=' ')\n",
    "    k = k - 1\n",
    "    for j in range(0, i+1):\n",
    "        print('* ', end='')\n",
    "    print('\\r')"
   ]
  },
  {
   "cell_type": "code",
   "execution_count": 76,
   "id": "d51f10eb-fb43-411d-8d09-84404515d90f",
   "metadata": {
    "tags": []
   },
   "outputs": [
    {
     "name": "stdout",
     "output_type": "stream",
     "text": [
      "*\n",
      "**\n",
      "***\n",
      "****\n",
      "*****\n",
      "******\n",
      "*******\n",
      "********\n",
      "*********\n"
     ]
    }
   ],
   "source": [
    "# Print Right Side Star Pyramid\n",
    "for i in range(1,10):\n",
    "    print(i*'*')"
   ]
  },
  {
   "cell_type": "code",
   "execution_count": 81,
   "id": "268d696a-42fb-421d-89c2-41f31afcbbd9",
   "metadata": {
    "tags": []
   },
   "outputs": [
    {
     "name": "stdin",
     "output_type": "stream",
     "text": [
      "Enter Number:  10\n"
     ]
    },
    {
     "name": "stdout",
     "output_type": "stream",
     "text": [
      "                  * \n",
      "                * * \n",
      "              * * * \n",
      "            * * * * \n",
      "          * * * * * \n",
      "        * * * * * * \n",
      "      * * * * * * * \n",
      "    * * * * * * * * \n",
      "  * * * * * * * * * \n",
      "* * * * * * * * * * \n"
     ]
    }
   ],
   "source": [
    "# Print Left Side Star Pyramid\n",
    "s = int(input('Enter Number: '))\n",
    "k = 2*s - 2\n",
    "for i in range(0, s):\n",
    "    for j in range(0, k):\n",
    "        print(end=' ')\n",
    "    k = k - 2\n",
    "    for j in range(0, i+1):\n",
    "        print('* ', end='')\n",
    "    print('\\r')"
   ]
  },
  {
   "cell_type": "code",
   "execution_count": 87,
   "id": "e29ce104-3078-407a-ad69-5d630454c0a8",
   "metadata": {
    "tags": []
   },
   "outputs": [
    {
     "name": "stdout",
     "output_type": "stream",
     "text": [
      "**********\n",
      "*********\n",
      "********\n",
      "*******\n",
      "******\n",
      "*****\n",
      "****\n",
      "***\n",
      "**\n",
      "*\n"
     ]
    }
   ],
   "source": [
    "# Print Right Up Side Down Star Pyramid\n",
    "for i in range(10,0,-1):\n",
    "    print(i*'*')"
   ]
  },
  {
   "cell_type": "code",
   "execution_count": 88,
   "id": "c7a2e46c-e1ee-42f7-b138-0094fb972069",
   "metadata": {
    "tags": []
   },
   "outputs": [
    {
     "name": "stdout",
     "output_type": "stream",
     "text": [
      "*********\n",
      "********\n",
      "*******\n",
      "******\n",
      "*****\n",
      "****\n",
      "***\n",
      "**\n",
      "*\n"
     ]
    }
   ],
   "source": [
    "# Print Right Up Side Down Star Pyramid using Reversed Method\n",
    "for i in reversed(range(1,10)):\n",
    "    print(i*'*')"
   ]
  },
  {
   "cell_type": "code",
   "execution_count": 101,
   "id": "f7ace07e-856c-47fa-ac07-02c141bcd3af",
   "metadata": {
    "tags": []
   },
   "outputs": [
    {
     "name": "stdin",
     "output_type": "stream",
     "text": [
      "Enter Your Number:  5\n"
     ]
    },
    {
     "name": "stdout",
     "output_type": "stream",
     "text": [
      "5 x 1 = 5\n",
      "5 x 2 = 10\n",
      "5 x 3 = 15\n",
      "5 x 4 = 20\n",
      "5 x 5 = 25\n",
      "5 x 6 = 30\n",
      "5 x 7 = 35\n",
      "5 x 8 = 40\n",
      "5 x 9 = 45\n",
      "5 x 10 = 50\n"
     ]
    }
   ],
   "source": [
    "# Table of Any Number\n",
    "n = int(input('Enter Your Number: '))\n",
    "for i in range(10):\n",
    "    i += 1\n",
    "    product = n*i\n",
    "    print(n, 'x', i, '=', product)"
   ]
  },
  {
   "cell_type": "code",
   "execution_count": 5,
   "id": "dfc409a5-c441-459c-ab46-abc9993cb2fb",
   "metadata": {
    "tags": []
   },
   "outputs": [
    {
     "data": {
      "text/plain": [
       "[11, 64, 9, 36, 7, 16]"
      ]
     },
     "execution_count": 5,
     "metadata": {},
     "output_type": "execute_result"
    }
   ],
   "source": [
    "list1 = [9,8,7,6,5,4]\n",
    "list2 = []\n",
    "for element in list1:\n",
    "    if element%2 == 0:\n",
    "        new_element = element**2\n",
    "        list2.append(new_element)\n",
    "    else:\n",
    "        new_element = element+2\n",
    "        list2.append(new_element)\n",
    "list2"
   ]
  },
  {
   "cell_type": "code",
   "execution_count": 71,
   "id": "f245962b-6b2b-45d1-b000-c5e1336eb387",
   "metadata": {
    "tags": []
   },
   "outputs": [
    {
     "name": "stdout",
     "output_type": "stream",
     "text": [
      "0 is the index of 9\n",
      "1 is the index of 8\n",
      "2 is the index of 7\n",
      "3 is the index of 6\n",
      "4 is the index of 5\n",
      "5 is the index of 4\n"
     ]
    }
   ],
   "source": [
    "for index in (range(0,len(list1))):\n",
    "    print(str(index)+' is the index of '+str(list1[index]))"
   ]
  },
  {
   "cell_type": "code",
   "execution_count": 114,
   "id": "948c31ec-911b-4cec-b82f-88ba74b2e9d8",
   "metadata": {
    "tags": []
   },
   "outputs": [
    {
     "name": "stdout",
     "output_type": "stream",
     "text": [
      "39\n"
     ]
    }
   ],
   "source": [
    "# find the sum of all the elements present in the list\n",
    "total_element_of_the_list = 0\n",
    "for element in list1:\n",
    "    total_element_of_the_list += element\n",
    "print(total_element_of_the_list)"
   ]
  },
  {
   "cell_type": "code",
   "execution_count": 7,
   "id": "2a0d2449-b577-40ee-a1e1-eece0897e092",
   "metadata": {
    "tags": []
   },
   "outputs": [
    {
     "data": {
      "text/plain": [
       "39"
      ]
     },
     "execution_count": 7,
     "metadata": {},
     "output_type": "execute_result"
    }
   ],
   "source": [
    "sum(list1)"
   ]
  },
  {
   "cell_type": "code",
   "execution_count": 13,
   "id": "c42314b9-e6ba-4673-8f57-f8f23a4c1951",
   "metadata": {
    "tags": []
   },
   "outputs": [
    {
     "data": {
      "text/plain": [
       "39"
      ]
     },
     "execution_count": 13,
     "metadata": {},
     "output_type": "execute_result"
    }
   ],
   "source": [
    "sume = 0\n",
    "for i in list1:\n",
    "    sume = i + sume\n",
    "sume"
   ]
  },
  {
   "cell_type": "code",
   "execution_count": 19,
   "id": "1b347ad5-fe79-4dde-96d3-a74fc946abf5",
   "metadata": {
    "tags": []
   },
   "outputs": [
    {
     "data": {
      "text/plain": [
       "[7, 6, 5, 4]"
      ]
     },
     "execution_count": 19,
     "metadata": {},
     "output_type": "execute_result"
    }
   ],
   "source": [
    "# Find the Second highest value in the List\n",
    "list1.remove(max(list1))\n",
    "list1"
   ]
  },
  {
   "cell_type": "code",
   "execution_count": 35,
   "id": "c376f6a2-71ee-4a12-8b97-64333a7aee4a",
   "metadata": {
    "tags": []
   },
   "outputs": [],
   "source": [
    "list1.append(8)"
   ]
  },
  {
   "cell_type": "code",
   "execution_count": 41,
   "id": "25fb2b07-f2a7-4667-ab62-d8801fc2ded5",
   "metadata": {
    "tags": []
   },
   "outputs": [
    {
     "data": {
      "text/plain": [
       "[4, 5, 6, 7, 8, 9]"
      ]
     },
     "execution_count": 41,
     "metadata": {},
     "output_type": "execute_result"
    }
   ],
   "source": [
    "list1.sort()\n",
    "list1"
   ]
  },
  {
   "cell_type": "code",
   "execution_count": 45,
   "id": "9f4a58d3-4a46-40a5-bac6-38c127009ab4",
   "metadata": {
    "tags": []
   },
   "outputs": [
    {
     "data": {
      "text/plain": [
       "8"
      ]
     },
     "execution_count": 45,
     "metadata": {},
     "output_type": "execute_result"
    }
   ],
   "source": [
    "list1[-2]"
   ]
  },
  {
   "cell_type": "code",
   "execution_count": 49,
   "id": "4a5b62e9-0865-41f6-8879-929b3edbac2e",
   "metadata": {
    "tags": []
   },
   "outputs": [
    {
     "data": {
      "text/plain": [
       "9"
      ]
     },
     "execution_count": 49,
     "metadata": {},
     "output_type": "execute_result"
    }
   ],
   "source": [
    "max1 = list1[0]\n",
    "for i in list1:\n",
    "    if max1>i:\n",
    "        pass\n",
    "    else:\n",
    "        max1 = i\n",
    "max1"
   ]
  },
  {
   "cell_type": "code",
   "execution_count": 52,
   "id": "33e3d1db-9d70-40b2-963a-d3ea7381107a",
   "metadata": {
    "tags": []
   },
   "outputs": [],
   "source": [
    "list1.remove(max1)"
   ]
  },
  {
   "cell_type": "code",
   "execution_count": 68,
   "id": "615c624a-1793-4bf5-a2bb-1aa84724dfd0",
   "metadata": {
    "tags": []
   },
   "outputs": [
    {
     "data": {
      "text/plain": [
       "8"
      ]
     },
     "execution_count": 68,
     "metadata": {},
     "output_type": "execute_result"
    }
   ],
   "source": [
    "max1 = list1[0]\n",
    "for i in list1:\n",
    "    if max1>i:\n",
    "        pass\n",
    "    else:\n",
    "        max1 = i\n",
    "max1"
   ]
  },
  {
   "cell_type": "code",
   "execution_count": 70,
   "id": "238abbd6-9b7a-456b-982d-903dd6a52aa5",
   "metadata": {
    "tags": []
   },
   "outputs": [
    {
     "data": {
      "text/plain": [
       "[4, 5, 6, 7, 8, 9]"
      ]
     },
     "execution_count": 70,
     "metadata": {},
     "output_type": "execute_result"
    }
   ],
   "source": [
    "list1.append(9)\n",
    "list1"
   ]
  },
  {
   "cell_type": "markdown",
   "id": "6470c906-6362-42e7-bfc1-cbeb1e0c22b4",
   "metadata": {},
   "source": [
    "# Function"
   ]
  },
  {
   "cell_type": "code",
   "execution_count": 57,
   "id": "e0dbd626-e88e-4aee-97fa-90c8eb131128",
   "metadata": {
    "tags": []
   },
   "outputs": [],
   "source": [
    "def addition(a=5, b=10):\n",
    "    add = a+b\n",
    "    return add"
   ]
  },
  {
   "cell_type": "code",
   "execution_count": 61,
   "id": "8e4e2955-86d3-40a7-9620-3711e6d47b2a",
   "metadata": {
    "tags": []
   },
   "outputs": [
    {
     "data": {
      "text/plain": [
       "112"
      ]
     },
     "execution_count": 61,
     "metadata": {},
     "output_type": "execute_result"
    }
   ],
   "source": [
    "addition(102)"
   ]
  },
  {
   "cell_type": "markdown",
   "id": "e20252d5-259e-4093-8d9a-ac0e6ad105c1",
   "metadata": {},
   "source": [
    "# List Comprehention"
   ]
  },
  {
   "cell_type": "code",
   "execution_count": 72,
   "id": "77fb1687-d464-4aa8-a6ca-59ddb9258545",
   "metadata": {
    "tags": []
   },
   "outputs": [
    {
     "data": {
      "text/plain": [
       "[16, 10, 36, 14, 64, 18]"
      ]
     },
     "execution_count": 72,
     "metadata": {},
     "output_type": "execute_result"
    }
   ],
   "source": [
    "list2 = [i*i if i%2 == 0 else i+i for i in list1]\n",
    "list2"
   ]
  },
  {
   "cell_type": "code",
   "execution_count": 74,
   "id": "c0651254-e652-4d21-b20d-f4e022dcde6c",
   "metadata": {
    "tags": []
   },
   "outputs": [
    {
     "data": {
      "text/plain": [
       "[16, 36, 64]"
      ]
     },
     "execution_count": 74,
     "metadata": {},
     "output_type": "execute_result"
    }
   ],
   "source": [
    "list2 = [i*i for i in list1 if i%2 == 0]\n",
    "list2"
   ]
  },
  {
   "cell_type": "markdown",
   "id": "8f447479-8c76-4cdf-9626-10f5716c8407",
   "metadata": {},
   "source": [
    "# Function Using Lambda"
   ]
  },
  {
   "cell_type": "code",
   "execution_count": 1,
   "id": "84393506-9dbf-4ad0-a8fb-0c8ba82d8847",
   "metadata": {
    "tags": []
   },
   "outputs": [
    {
     "data": {
      "text/plain": [
       "35"
      ]
     },
     "execution_count": 1,
     "metadata": {},
     "output_type": "execute_result"
    }
   ],
   "source": [
    "sum1 = lambda a=5, b=10: a+b\n",
    "sum1(25)"
   ]
  },
  {
   "cell_type": "markdown",
   "id": "4b1d7531-a30b-4ca9-900c-14d066020659",
   "metadata": {},
   "source": [
    "# OOP"
   ]
  },
  {
   "cell_type": "code",
   "execution_count": 76,
   "id": "6358e7d8-1f10-4a45-aa2a-fd80ac5ee30d",
   "metadata": {
    "tags": []
   },
   "outputs": [
    {
     "name": "stdout",
     "output_type": "stream",
     "text": [
      "10 20 50\n",
      "Friuts:  orange + mango + banana\n"
     ]
    }
   ],
   "source": [
    "class summ:\n",
    "    def summition(self, orange, mango, banana):\n",
    "        self.orange = \"orange\"\n",
    "        self.mango  = \"mango\"\n",
    "        self.banana = \"banana\"\n",
    "        #c = self.orange+self.mango-self.banana\n",
    "        #return c\n",
    "        print(orange, mango, banana)\n",
    "    \n",
    "    def display(self):\n",
    "        print('Friuts: ',self.orange, '+',self.mango, '+',self.banana)\n",
    "        \n",
    "obj = summ()\n",
    "obj.summition(10,20,50)\n",
    "obj.display()"
   ]
  },
  {
   "cell_type": "code",
   "execution_count": 86,
   "id": "872bbdb1-69ac-47ab-8a7a-c450789cba8f",
   "metadata": {
    "tags": []
   },
   "outputs": [
    {
     "data": {
      "text/plain": [
       "64"
      ]
     },
     "execution_count": 86,
     "metadata": {},
     "output_type": "execute_result"
    }
   ],
   "source": [
    "class calculate:\n",
    "    def even(self, n):\n",
    "        self.n = n\n",
    "        if n%2 == 0:\n",
    "            result = self.square()\n",
    "        else:\n",
    "            result = self.double()\n",
    "        return result\n",
    "\n",
    "    def square(self):\n",
    "        return self.n**2\n",
    "    def double(self):\n",
    "        return self.n*2\n",
    "\n",
    "obj = calculate()\n",
    "obj.even(8)"
   ]
  },
  {
   "cell_type": "markdown",
   "id": "fe6e5d6c-7cd7-4851-a91d-faac5f252100",
   "metadata": {},
   "source": [
    "# Inharitence and Polymorphism"
   ]
  },
  {
   "cell_type": "markdown",
   "id": "a236627b-6adb-4112-8470-e5af63384b36",
   "metadata": {
    "tags": []
   },
   "source": [
    "Inharitence"
   ]
  },
  {
   "cell_type": "code",
   "execution_count": 30,
   "id": "a69d28b7-0c93-47f9-923a-5e55e6f0b471",
   "metadata": {
    "tags": []
   },
   "outputs": [
    {
     "name": "stdout",
     "output_type": "stream",
     "text": [
      "18 Biden\n"
     ]
    }
   ],
   "source": [
    "class parent:\n",
    "    def __init__(self):\n",
    "        self.age = 18\n",
    "class child1(parent):\n",
    "    def __init__(self):\n",
    "        self.name = 'Biden'\n",
    "        parent.__init__(self)\n",
    "    def display(self):\n",
    "        print(self.age, self.name)\n",
    "obj_child1 = child1()\n",
    "obj_child1.display()"
   ]
  },
  {
   "cell_type": "markdown",
   "id": "17945c99-5115-4d59-9be8-1e2441024762",
   "metadata": {},
   "source": [
    "Multilevel Inharitance"
   ]
  },
  {
   "cell_type": "code",
   "execution_count": 6,
   "id": "876ceeaf-d8f4-4b21-9fe3-5f34e80dda4e",
   "metadata": {
    "tags": []
   },
   "outputs": [
    {
     "name": "stdout",
     "output_type": "stream",
     "text": [
      "the display of Biden is: 25\n",
      "Biden 5 5\n"
     ]
    }
   ],
   "source": [
    "class parent:\n",
    "    def __init__(self):\n",
    "        self.age = 5\n",
    "        \n",
    "class child(parent):           #Inharit Parent Class\n",
    "    def __init__(self):\n",
    "        self.name = 'Biden'\n",
    "        parent.__init__(self)  #Inharit Parent Method\n",
    "    \n",
    "class grandchild(child):       #Inharit Child (Child Class Include Parent Class) Class\n",
    "    def __init__(self):\n",
    "        self.gender = 5\n",
    "        child.__init__(self)   #Inharit Child Mthod\n",
    "        \n",
    "    def display(self):\n",
    "        print('the display of {} is: {}'.format(self.name, self.age * self.gender))\n",
    "        print(self.name, self.age, self.gender)\n",
    "        \n",
    "obj_grandchild = grandchild()\n",
    "obj_grandchild.display()"
   ]
  },
  {
   "cell_type": "markdown",
   "id": "33c98aea-7559-41f7-a3f3-740fd3ed9404",
   "metadata": {},
   "source": [
    "Abstruction"
   ]
  },
  {
   "cell_type": "code",
   "execution_count": 8,
   "id": "a1992303-cec2-4614-838f-371d3727875b",
   "metadata": {
    "tags": []
   },
   "outputs": [
    {
     "name": "stdout",
     "output_type": "stream",
     "text": [
      "parent\n",
      "child\n"
     ]
    }
   ],
   "source": [
    "from abc import ABC, abstractmethod\n",
    "\n",
    "class parent(ABC):\n",
    "    @abstractmethod\n",
    "    \n",
    "    def show(self):\n",
    "        print('parent')\n",
    "\n",
    "class child(parent):\n",
    "    def show(self):\n",
    "        super().show()\n",
    "        print('child')\n",
    "\n",
    "obj = child()\n",
    "obj.show()"
   ]
  },
  {
   "cell_type": "code",
   "execution_count": 12,
   "id": "5fcda23b-e5d7-47dc-a64b-522e0d1179f5",
   "metadata": {
    "tags": []
   },
   "outputs": [
    {
     "name": "stdout",
     "output_type": "stream",
     "text": [
      "adi\n"
     ]
    }
   ],
   "source": [
    "class parent:\n",
    "    def __init__(self):\n",
    "        self.name='adi'\n",
    "        \n",
    "class child(parent):\n",
    "    def __init__(self):\n",
    "        self.name='john'\n",
    "        parent.__init__(self)\n",
    "        \n",
    "    def display(self):\n",
    "        print (self.name)\n",
    "        \n",
    "obj=child()\n",
    "obj.display()"
   ]
  }
 ],
 "metadata": {
  "kernelspec": {
   "display_name": "Python 3 (ipykernel)",
   "language": "python",
   "name": "python3"
  },
  "language_info": {
   "codemirror_mode": {
    "name": "ipython",
    "version": 3
   },
   "file_extension": ".py",
   "mimetype": "text/x-python",
   "name": "python",
   "nbconvert_exporter": "python",
   "pygments_lexer": "ipython3",
   "version": "3.11.5"
  },
  "widgets": {
   "application/vnd.jupyter.widget-state+json": {
    "state": {},
    "version_major": 2,
    "version_minor": 0
   }
  }
 },
 "nbformat": 4,
 "nbformat_minor": 5
}
