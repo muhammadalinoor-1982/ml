{
 "cells": [
  {
   "cell_type": "markdown",
   "id": "23c88fd7",
   "metadata": {},
   "source": [
    "# Feature Engineering:\n",
    "    1. Feature Transformation\n",
    "        a) Missing Value Imputation\n",
    "        b) Handling Categorical Features\n",
    "        c) Outlires Detection\n",
    "        d) Feature Scaling\n",
    "    2. Feature Constrauction\n",
    "    3. Feature Selection\n",
    "    4. Feature Extraction"
   ]
  },
  {
   "cell_type": "markdown",
   "id": "3da23260",
   "metadata": {},
   "source": [
    "# Feature Scaling\n",
    "    1. Standardization (Z-Score Normalization)\n",
    "    2. Normalization"
   ]
  },
  {
   "cell_type": "markdown",
   "id": "a52a941b",
   "metadata": {},
   "source": [
    "# Standardization\n",
    "\n",
    "    1.Standardization (Z-Score Normalization)\n",
    "  \n",
    "    Note: \n",
    "        I)sigma is symbole of Standard Daviation\n",
    "        II) In Standardization, Mean should be 0 and Standard Daviation should be 1\n",
    "        \n",
    "    a) K-Means\n",
    "    b) KNN\n",
    "    c) ANN\n",
    "    d) PCA\n",
    "    e) Gradient Descent\n",
    "    \n",
    "    Note: No Need to Applt Standardization: Decision Tree, Random Forest, Gradient Boost, XGBoost"
   ]
  },
  {
   "cell_type": "markdown",
   "id": "0d577fbd",
   "metadata": {
    "tags": []
   },
   "source": [
    "# Normalization\n",
    "\n",
    "    2.Normalization\n",
    "        a) Minmax Scaler Note: Use for Image Processing\n",
    "        b) Mean Scaler (Mean Centering) \n",
    "        c) Max Absolute Scaler Note: Use for Spars Data\n",
    "        d) Robust Scaler Note: Use for Outliers"
   ]
  },
  {
   "cell_type": "code",
   "execution_count": null,
   "id": "b17c1b38",
   "metadata": {},
   "outputs": [],
   "source": []
  }
 ],
 "metadata": {
  "kernelspec": {
   "display_name": "Python 3 (ipykernel)",
   "language": "python",
   "name": "python3"
  },
  "language_info": {
   "codemirror_mode": {
    "name": "ipython",
    "version": 3
   },
   "file_extension": ".py",
   "mimetype": "text/x-python",
   "name": "python",
   "nbconvert_exporter": "python",
   "pygments_lexer": "ipython3",
   "version": "3.11.5"
  }
 },
 "nbformat": 4,
 "nbformat_minor": 5
}
