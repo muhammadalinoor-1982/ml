{
 "cells": [
  {
   "cell_type": "markdown",
   "id": "b6f7f287-48be-4f60-b900-e7596a1d19ea",
   "metadata": {},
   "source": [
    "Source: https://www.youtube.com/playlist?list=PLjVLYmrlmjGe-xLyoCdDrt8Nil1Alg_L3"
   ]
  },
  {
   "cell_type": "markdown",
   "id": "eb6d1aaa-fd7f-408c-b51e-491d589c2308",
   "metadata": {},
   "source": [
    "Machine Learning Start from 25/09/2023 at 7:00 PM"
   ]
  },
  {
   "cell_type": "markdown",
   "id": "67672398-f933-41c9-916c-ab87755d3f9e",
   "metadata": {},
   "source": [
    "Types of machine learning: Supervised, Unsupervised, and Reinforcement Learning."
   ]
  },
  {
   "cell_type": "markdown",
   "id": "90167875-65e9-49a0-80fa-52143bf26bfb",
   "metadata": {},
   "source": [
    "1. Data Collection (Raw Data)\n",
    "2. Data Preparation (Exploration)\n",
    "3. Data Wrangling (Cleaning, Converting, and Usable Formating)\n",
    "4. Data Modeling (Select Algorithms for Training)\n",
    "5. Model Training\n",
    "6. Model Test (Verification)\n",
    "7. Model Deployment"
   ]
  },
  {
   "cell_type": "markdown",
   "id": "9f1f8eec",
   "metadata": {},
   "source": [
    "Weak AI = Machine Learning >> Algorithms \n",
    "Strong AI = Deep Learning >> Multilear Neural Network"
   ]
  },
  {
   "cell_type": "markdown",
   "id": "2c43c64b",
   "metadata": {},
   "source": [
    "Types of Dataset: 1. Numerical Data, 2. Categorical Data, 3. Ordinal Data"
   ]
  },
  {
   "cell_type": "markdown",
   "id": "896641cd",
   "metadata": {},
   "source": [
    "Steps of Data Pre-Processing ro Exploratory Data Analysis (EDA):\n",
    "1. Collecting Dataset\n",
    "2. Import Python Libraries. Example: Numpy, Pandas, Matplotlib, Seaborn\n",
    "3. Include Dataset in CSV Format\n",
    "4. Find and Manage Null Values\n",
    "5. Label Encoding for Categorical/Group Data. Example: Gender = Male, Female\n",
    "6. Split Dataset for Train and Test\n",
    "7. Feature Scaling"
   ]
  },
  {
   "cell_type": "code",
   "execution_count": 1,
   "id": "34c4975b",
   "metadata": {},
   "outputs": [],
   "source": [
    "import numpy as np\n",
    "import pandas as pd"
   ]
  },
  {
   "cell_type": "markdown",
   "id": "060f8eb0",
   "metadata": {},
   "source": [
    "#https://github.com/mwaskom/seaborn-data    Collect Dataset fom GitHub"
   ]
  },
  {
   "cell_type": "code",
   "execution_count": 2,
   "id": "eddf3760",
   "metadata": {},
   "outputs": [
    {
     "data": {
      "text/html": [
       "<div>\n",
       "<style scoped>\n",
       "    .dataframe tbody tr th:only-of-type {\n",
       "        vertical-align: middle;\n",
       "    }\n",
       "\n",
       "    .dataframe tbody tr th {\n",
       "        vertical-align: top;\n",
       "    }\n",
       "\n",
       "    .dataframe thead th {\n",
       "        text-align: right;\n",
       "    }\n",
       "</style>\n",
       "<table border=\"1\" class=\"dataframe\">\n",
       "  <thead>\n",
       "    <tr style=\"text-align: right;\">\n",
       "      <th></th>\n",
       "      <th>Country</th>\n",
       "      <th>Age</th>\n",
       "      <th>Salary</th>\n",
       "      <th>Purchased</th>\n",
       "    </tr>\n",
       "  </thead>\n",
       "  <tbody>\n",
       "    <tr>\n",
       "      <th>0</th>\n",
       "      <td>India</td>\n",
       "      <td>54.0</td>\n",
       "      <td>3504.0</td>\n",
       "      <td>No</td>\n",
       "    </tr>\n",
       "    <tr>\n",
       "      <th>1</th>\n",
       "      <td>Pakistan</td>\n",
       "      <td>65.0</td>\n",
       "      <td>3693.0</td>\n",
       "      <td>yes</td>\n",
       "    </tr>\n",
       "    <tr>\n",
       "      <th>2</th>\n",
       "      <td>Nepal</td>\n",
       "      <td>12.0</td>\n",
       "      <td>3436.0</td>\n",
       "      <td>yes</td>\n",
       "    </tr>\n",
       "    <tr>\n",
       "      <th>3</th>\n",
       "      <td>Bhutan</td>\n",
       "      <td>54.0</td>\n",
       "      <td>3433.0</td>\n",
       "      <td>No</td>\n",
       "    </tr>\n",
       "    <tr>\n",
       "      <th>4</th>\n",
       "      <td>Indonesia</td>\n",
       "      <td>68.0</td>\n",
       "      <td>NaN</td>\n",
       "      <td>yes</td>\n",
       "    </tr>\n",
       "    <tr>\n",
       "      <th>5</th>\n",
       "      <td>Malaysia</td>\n",
       "      <td>76.0</td>\n",
       "      <td>4341.0</td>\n",
       "      <td>No</td>\n",
       "    </tr>\n",
       "    <tr>\n",
       "      <th>6</th>\n",
       "      <td>Bangladesh</td>\n",
       "      <td>35.0</td>\n",
       "      <td>4354.0</td>\n",
       "      <td>yes</td>\n",
       "    </tr>\n",
       "    <tr>\n",
       "      <th>7</th>\n",
       "      <td>USA</td>\n",
       "      <td>NaN</td>\n",
       "      <td>4312.0</td>\n",
       "      <td>No</td>\n",
       "    </tr>\n",
       "    <tr>\n",
       "      <th>8</th>\n",
       "      <td>Canada</td>\n",
       "      <td>95.0</td>\n",
       "      <td>4425.0</td>\n",
       "      <td>yes</td>\n",
       "    </tr>\n",
       "    <tr>\n",
       "      <th>9</th>\n",
       "      <td>Australia</td>\n",
       "      <td>35.0</td>\n",
       "      <td>3850.0</td>\n",
       "      <td>yes</td>\n",
       "    </tr>\n",
       "    <tr>\n",
       "      <th>10</th>\n",
       "      <td>German</td>\n",
       "      <td>15.0</td>\n",
       "      <td>3563.0</td>\n",
       "      <td>No</td>\n",
       "    </tr>\n",
       "    <tr>\n",
       "      <th>11</th>\n",
       "      <td>France</td>\n",
       "      <td>35.0</td>\n",
       "      <td>3609.0</td>\n",
       "      <td>No</td>\n",
       "    </tr>\n",
       "    <tr>\n",
       "      <th>12</th>\n",
       "      <td>Netherlan</td>\n",
       "      <td>65.0</td>\n",
       "      <td>3761.0</td>\n",
       "      <td>yes</td>\n",
       "    </tr>\n",
       "  </tbody>\n",
       "</table>\n",
       "</div>"
      ],
      "text/plain": [
       "       Country   Age  Salary Purchased\n",
       "0       India   54.0  3504.0        No\n",
       "1     Pakistan  65.0  3693.0       yes\n",
       "2        Nepal  12.0  3436.0       yes\n",
       "3       Bhutan  54.0  3433.0        No\n",
       "4    Indonesia  68.0     NaN       yes\n",
       "5     Malaysia  76.0  4341.0        No\n",
       "6   Bangladesh  35.0  4354.0       yes\n",
       "7          USA   NaN  4312.0        No\n",
       "8       Canada  95.0  4425.0       yes\n",
       "9    Australia  35.0  3850.0       yes\n",
       "10      German  15.0  3563.0        No\n",
       "11      France  35.0  3609.0        No\n",
       "12   Netherlan  65.0  3761.0       yes"
      ]
     },
     "execution_count": 2,
     "metadata": {},
     "output_type": "execute_result"
    }
   ],
   "source": [
    "df = pd.read_csv('Purchased.csv')\n",
    "df"
   ]
  },
  {
   "cell_type": "code",
   "execution_count": 3,
   "id": "815102fa",
   "metadata": {},
   "outputs": [
    {
     "data": {
      "text/plain": [
       "array([['India ', 54.0, 3504.0],\n",
       "       ['Pakistan', 65.0, 3693.0],\n",
       "       ['Nepal', 12.0, 3436.0],\n",
       "       ['Bhutan', 54.0, 3433.0],\n",
       "       ['Indonesia', 68.0, nan],\n",
       "       ['Malaysia', 76.0, 4341.0],\n",
       "       ['Bangladesh', 35.0, 4354.0],\n",
       "       ['USA', nan, 4312.0],\n",
       "       ['Canada', 95.0, 4425.0],\n",
       "       ['Australia', 35.0, 3850.0],\n",
       "       ['German', 15.0, 3563.0],\n",
       "       ['France', 35.0, 3609.0],\n",
       "       ['Netherlan', 65.0, 3761.0]], dtype=object)"
      ]
     },
     "execution_count": 3,
     "metadata": {},
     "output_type": "execute_result"
    }
   ],
   "source": [
    "# Taking Ungrouped Column as array\n",
    "indp = df[['Country', 'Age', 'Salary']].values\n",
    "indp"
   ]
  },
  {
   "cell_type": "code",
   "execution_count": 5,
   "id": "17ef3368",
   "metadata": {},
   "outputs": [
    {
     "data": {
      "text/plain": [
       "array([['No'],\n",
       "       ['yes'],\n",
       "       ['yes'],\n",
       "       ['No'],\n",
       "       ['yes'],\n",
       "       ['No'],\n",
       "       ['yes'],\n",
       "       ['No'],\n",
       "       ['yes'],\n",
       "       ['yes'],\n",
       "       ['No'],\n",
       "       ['No'],\n",
       "       ['yes']], dtype=object)"
      ]
     },
     "execution_count": 5,
     "metadata": {},
     "output_type": "execute_result"
    }
   ],
   "source": [
    "# Taking Grouped Column as array\n",
    "dpn = df[['Purchased']].values\n",
    "dpn"
   ]
  },
  {
   "cell_type": "code",
   "execution_count": 13,
   "id": "7c10316f",
   "metadata": {},
   "outputs": [
    {
     "data": {
      "text/plain": [
       "array([['India ', 54.0, 3504.0],\n",
       "       ['Pakistan', 65.0, 3693.0],\n",
       "       ['Nepal', 12.0, 3436.0],\n",
       "       ['Bhutan', 54.0, 3433.0],\n",
       "       ['Indonesia', 68.0, 3856.75],\n",
       "       ['Malaysia', 76.0, 4341.0],\n",
       "       ['Bangladesh', 35.0, 4354.0],\n",
       "       ['USA', 50.75, 4312.0],\n",
       "       ['Canada', 95.0, 4425.0],\n",
       "       ['Australia', 35.0, 3850.0],\n",
       "       ['German', 15.0, 3563.0],\n",
       "       ['France', 35.0, 3609.0],\n",
       "       ['Netherlan', 65.0, 3761.0]], dtype=object)"
      ]
     },
     "execution_count": 13,
     "metadata": {},
     "output_type": "execute_result"
    }
   ],
   "source": [
    "# Replace NAN Value with 'mean'\n",
    "from sklearn.impute import SimpleImputer\n",
    "imputer = SimpleImputer(missing_values=np.nan, strategy='mean')\n",
    "imputer_1 = imputer.fit(indp[:,1:3])\n",
    "indp[:,1:3] = imputer_1.transform(indp[:,1:3])\n",
    "indp\n"
   ]
  },
  {
   "cell_type": "code",
   "execution_count": 17,
   "id": "16a722e0",
   "metadata": {},
   "outputs": [
    {
     "data": {
      "text/plain": [
       "array([[6, 54.0, 3504.0],\n",
       "       [11, 65.0, 3693.0],\n",
       "       [9, 12.0, 3436.0],\n",
       "       [2, 54.0, 3433.0],\n",
       "       [7, 68.0, 3856.75],\n",
       "       [8, 76.0, 4341.0],\n",
       "       [1, 35.0, 4354.0],\n",
       "       [12, 50.75, 4312.0],\n",
       "       [3, 95.0, 4425.0],\n",
       "       [0, 35.0, 3850.0],\n",
       "       [5, 15.0, 3563.0],\n",
       "       [4, 35.0, 3609.0],\n",
       "       [10, 65.0, 3761.0]], dtype=object)"
      ]
     },
     "execution_count": 17,
     "metadata": {},
     "output_type": "execute_result"
    }
   ],
   "source": [
    "# Label Encoding for 'String' values\n",
    "from sklearn.preprocessing import LabelEncoder\n",
    "label_indp = LabelEncoder()\n",
    "indp[:,0] = label_indp.fit_transform(indp[:,0])\n",
    "indp"
   ]
  },
  {
   "cell_type": "code",
   "execution_count": 45,
   "id": "d48585c8",
   "metadata": {},
   "outputs": [],
   "source": [
    "#from sklearn.preprocessing import OneHotEncoder\n",
    "#ohe = OneHotEncoder()\n",
    "#indpp = ohe.fit_transform(dataset.Country.values.reshape(-1,1)).toarray()\n",
    "#indpp"
   ]
  },
  {
   "cell_type": "code",
   "execution_count": 44,
   "id": "1ed1fc71",
   "metadata": {},
   "outputs": [
    {
     "data": {
      "text/plain": [
       "array([0, 1, 1, 0, 1, 0, 1, 0, 1, 1, 0, 0, 1], dtype=int64)"
      ]
     },
     "execution_count": 44,
     "metadata": {},
     "output_type": "execute_result"
    }
   ],
   "source": [
    "# Label Encoding for grouped 'String' values\n",
    "dpn_v = LabelEncoder()\n",
    "dpn = dpn_v.fit_transform(dpn)\n",
    "dpn"
   ]
  },
  {
   "cell_type": "code",
   "execution_count": 46,
   "id": "7a67391c",
   "metadata": {},
   "outputs": [],
   "source": [
    "# Tain and Test data\n",
    "from sklearn.model_selection import train_test_split\n",
    "x_train,x_test,y_train,y_test = train_test_split(indp, dpn, test_size=0.2, random_state=0)"
   ]
  },
  {
   "cell_type": "code",
   "execution_count": 48,
   "id": "dafa6675",
   "metadata": {},
   "outputs": [
    {
     "data": {
      "text/plain": [
       "array([[5, 15.0, 3563.0],\n",
       "       [9, 12.0, 3436.0],\n",
       "       [3, 95.0, 4425.0],\n",
       "       [11, 65.0, 3693.0],\n",
       "       [12, 50.75, 4312.0],\n",
       "       [0, 35.0, 3850.0],\n",
       "       [2, 54.0, 3433.0],\n",
       "       [6, 54.0, 3504.0],\n",
       "       [8, 76.0, 4341.0],\n",
       "       [10, 65.0, 3761.0]], dtype=object)"
      ]
     },
     "execution_count": 48,
     "metadata": {},
     "output_type": "execute_result"
    }
   ],
   "source": [
    "x_train"
   ]
  },
  {
   "cell_type": "code",
   "execution_count": 50,
   "id": "e52c180c",
   "metadata": {},
   "outputs": [
    {
     "data": {
      "text/plain": [
       "array([[1, 35.0, 4354.0],\n",
       "       [4, 35.0, 3609.0],\n",
       "       [7, 68.0, 3856.75]], dtype=object)"
      ]
     },
     "execution_count": 50,
     "metadata": {},
     "output_type": "execute_result"
    }
   ],
   "source": [
    "x_test"
   ]
  },
  {
   "cell_type": "code",
   "execution_count": 52,
   "id": "f679bed0",
   "metadata": {},
   "outputs": [
    {
     "data": {
      "text/plain": [
       "array([0, 1, 1, 1, 0, 1, 0, 0, 0, 1], dtype=int64)"
      ]
     },
     "execution_count": 52,
     "metadata": {},
     "output_type": "execute_result"
    }
   ],
   "source": [
    "y_train"
   ]
  },
  {
   "cell_type": "code",
   "execution_count": 54,
   "id": "aba45caa",
   "metadata": {},
   "outputs": [
    {
     "data": {
      "text/plain": [
       "array([1, 0, 1], dtype=int64)"
      ]
     },
     "execution_count": 54,
     "metadata": {},
     "output_type": "execute_result"
    }
   ],
   "source": [
    "y_test"
   ]
  },
  {
   "cell_type": "code",
   "execution_count": 56,
   "id": "22d9a429",
   "metadata": {},
   "outputs": [],
   "source": [
    "# Train Data Through 'StandardScaler'\n",
    "from sklearn.preprocessing import StandardScaler\n",
    "sc_x = StandardScaler()\n",
    "x_train = sc_x.fit_transform(x_train)\n",
    "x_test = sc_x.transform(x_test)"
   ]
  },
  {
   "cell_type": "code",
   "execution_count": 58,
   "id": "d4916224",
   "metadata": {},
   "outputs": [
    {
     "data": {
      "text/plain": [
       "array([[-0.41533931, -1.51385087, -0.72841046],\n",
       "       [ 0.62300896, -1.63601771, -1.07256272],\n",
       "       [-0.93451344,  1.74393176,  1.60748915],\n",
       "       [ 1.14218309,  0.52226328, -0.37612861],\n",
       "       [ 1.40177016, -0.05802925,  1.30127493],\n",
       "       [-1.71327463, -0.69940521,  0.04931946],\n",
       "       [-1.1941005 ,  0.07431817, -1.0806923 ],\n",
       "       [-0.15575224,  0.07431817, -0.88829222],\n",
       "       [ 0.36342189,  0.97020839,  1.37986088],\n",
       "       [ 0.88259602,  0.52226328, -0.19185811]])"
      ]
     },
     "execution_count": 58,
     "metadata": {},
     "output_type": "execute_result"
    }
   ],
   "source": [
    "x_train"
   ]
  },
  {
   "cell_type": "code",
   "execution_count": 59,
   "id": "e613e884",
   "metadata": {},
   "outputs": [
    {
     "data": {
      "text/plain": [
       "array([[-1.45368757, -0.69940521,  1.41508906],\n",
       "       [-0.67492637, -0.69940521, -0.60375688],\n",
       "       [ 0.10383483,  0.64443013,  0.06761102]])"
      ]
     },
     "execution_count": 59,
     "metadata": {},
     "output_type": "execute_result"
    }
   ],
   "source": [
    "x_test"
   ]
  }
 ],
 "metadata": {
  "kernelspec": {
   "display_name": "Python 3 (ipykernel)",
   "language": "python",
   "name": "python3"
  },
  "language_info": {
   "codemirror_mode": {
    "name": "ipython",
    "version": 3
   },
   "file_extension": ".py",
   "mimetype": "text/x-python",
   "name": "python",
   "nbconvert_exporter": "python",
   "pygments_lexer": "ipython3",
   "version": "3.11.2"
  },
  "widgets": {
   "application/vnd.jupyter.widget-state+json": {
    "state": {},
    "version_major": 2,
    "version_minor": 0
   }
  }
 },
 "nbformat": 4,
 "nbformat_minor": 5
}
