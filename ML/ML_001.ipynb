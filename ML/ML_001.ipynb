{
 "cells": [
  {
   "cell_type": "markdown",
   "id": "b6f7f287-48be-4f60-b900-e7596a1d19ea",
   "metadata": {},
   "source": [
    "Source: https://www.youtube.com/playlist?list=PLjVLYmrlmjGe-xLyoCdDrt8Nil1Alg_L3"
   ]
  },
  {
   "cell_type": "markdown",
   "id": "eb6d1aaa-fd7f-408c-b51e-491d589c2308",
   "metadata": {},
   "source": [
    "Machine Learning Start from 25/09/2023 at 7:00 PM"
   ]
  },
  {
   "cell_type": "markdown",
   "id": "67672398-f933-41c9-916c-ab87755d3f9e",
   "metadata": {},
   "source": [
    "Types of machine learning: Supervised, Unsupervised, and Reinforcement Learning."
   ]
  },
  {
   "cell_type": "markdown",
   "id": "90167875-65e9-49a0-80fa-52143bf26bfb",
   "metadata": {},
   "source": [
    "1. Data Collection (Raw Data)\n",
    "2. Data Preparation (Exploration)\n",
    "3. Data Wrangling (Cleaning, Converting, and Usable Formating)\n",
    "4. Data Modeling (Select Algorithms for Training)\n",
    "5. Model Training\n",
    "6. Model Test (Verification)\n",
    "7. Model Deployment"
   ]
  },
  {
   "cell_type": "markdown",
   "id": "9f1f8eec",
   "metadata": {},
   "source": [
    "Weak AI = Machine Learning >> Algorithms \n",
    "Strong AI = Deep Learning >> Multilear Neural Network"
   ]
  }
 ],
 "metadata": {
  "kernelspec": {
   "display_name": "Python 3 (ipykernel)",
   "language": "python",
   "name": "python3"
  },
  "language_info": {
   "codemirror_mode": {
    "name": "ipython",
    "version": 3
   },
   "file_extension": ".py",
   "mimetype": "text/x-python",
   "name": "python",
   "nbconvert_exporter": "python",
   "pygments_lexer": "ipython3",
   "version": "3.11.4"
  }
 },
 "nbformat": 4,
 "nbformat_minor": 5
}
