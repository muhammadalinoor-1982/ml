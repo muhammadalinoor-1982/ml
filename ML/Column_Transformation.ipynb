{
 "cells": [
  {
   "cell_type": "markdown",
   "id": "3d3b658b-b080-4c5b-89db-8f67fac7e2ff",
   "metadata": {},
   "source": [
    "After Apply Single or Multiple Encoder then Use 'ColumnTransformer' of sklearn.compose to concatinate all the columns"
   ]
  }
 ],
 "metadata": {
  "kernelspec": {
   "display_name": "Python 3 (ipykernel)",
   "language": "python",
   "name": "python3"
  },
  "language_info": {
   "codemirror_mode": {
    "name": "ipython",
    "version": 3
   },
   "file_extension": ".py",
   "mimetype": "text/x-python",
   "name": "python",
   "nbconvert_exporter": "python",
   "pygments_lexer": "ipython3",
   "version": "3.11.2"
  },
  "widgets": {
   "application/vnd.jupyter.widget-state+json": {
    "state": {},
    "version_major": 2,
    "version_minor": 0
   }
  }
 },
 "nbformat": 4,
 "nbformat_minor": 5
}
