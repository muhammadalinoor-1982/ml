{
 "cells": [
  {
   "cell_type": "markdown",
   "id": "8cae4026-be82-4409-9073-1b76cdbff919",
   "metadata": {},
   "source": [
    "Source: https://www.youtube.com/watch?v=w2GglmYHfmM&list=WL&index=344"
   ]
  },
  {
   "cell_type": "markdown",
   "id": "43e5633b-d7b3-44f0-9369-f11f58810cbe",
   "metadata": {},
   "source": [
    "Categorical Data are 2 Types: 1) Nominal 2) Ordinal(Order Based data)"
   ]
  },
  {
   "cell_type": "markdown",
   "id": "0e4d6d7c-7447-45a7-bcff-8978fa6fa41f",
   "metadata": {},
   "source": [
    "Nominal Data Encoding Technique: OneHotEncoding"
   ]
  },
  {
   "cell_type": "markdown",
   "id": "1a7fa6e9-773b-4798-b8d3-4ed7d25f0e50",
   "metadata": {},
   "source": [
    "Ordinal Data Encoding Technique: LabelEncoding and OrdinalEncoding"
   ]
  },
  {
   "cell_type": "markdown",
   "id": "01c9e658-df38-4295-9409-fc8580baef99",
   "metadata": {},
   "source": [
    "______________________________________________________________________________________"
   ]
  },
  {
   "cell_type": "markdown",
   "id": "79321f83-8647-4669-b0a9-134ad9bffd3c",
   "metadata": {},
   "source": [
    "**********Apply Ordinal Ecoder to make priorities order wise"
   ]
  },
  {
   "cell_type": "markdown",
   "id": "23404bb8-cdff-4869-9c72-2917a1476038",
   "metadata": {},
   "source": [
    "Import Libraries"
   ]
  },
  {
   "cell_type": "code",
   "execution_count": 2,
   "id": "f3387ee9-d9c0-4088-8a80-f9721ec14ccf",
   "metadata": {},
   "outputs": [],
   "source": [
    "import numpy as np\n",
    "import pandas as pd"
   ]
  },
  {
   "cell_type": "markdown",
   "id": "a14f1a46-0e30-4850-ab8e-3e60d72b8345",
   "metadata": {},
   "source": [
    "Include Dataset using pandas"
   ]
  },
  {
   "cell_type": "code",
   "execution_count": 3,
   "id": "d135b848-73c6-4202-afea-62a9ef8e7bd1",
   "metadata": {},
   "outputs": [],
   "source": [
    "df = pd.read_csv('Purchased.csv')"
   ]
  },
  {
   "cell_type": "markdown",
   "id": "0cbc3c53-43a5-4b34-818d-b8eaff9455e1",
   "metadata": {},
   "source": [
    "Check Data Types"
   ]
  },
  {
   "cell_type": "code",
   "execution_count": 90,
   "id": "0e34e123-e4f6-4e87-95e0-18fd07de5b4b",
   "metadata": {},
   "outputs": [
    {
     "data": {
      "text/plain": [
       "Age           int64\n",
       "Gender       object\n",
       "Review       object\n",
       "Education    object\n",
       "Purchased    object\n",
       "dtype: object"
      ]
     },
     "execution_count": 90,
     "metadata": {},
     "output_type": "execute_result"
    }
   ],
   "source": [
    "df.dtypes"
   ]
  },
  {
   "cell_type": "markdown",
   "id": "7ca049cd-4a3e-4ded-b732-c299fe4f1c9b",
   "metadata": {},
   "source": [
    "Dataset Head Count"
   ]
  },
  {
   "cell_type": "code",
   "execution_count": 61,
   "id": "b6e36fad-e0ba-41ea-971d-46a82a227603",
   "metadata": {},
   "outputs": [
    {
     "data": {
      "text/html": [
       "<div>\n",
       "<style scoped>\n",
       "    .dataframe tbody tr th:only-of-type {\n",
       "        vertical-align: middle;\n",
       "    }\n",
       "\n",
       "    .dataframe tbody tr th {\n",
       "        vertical-align: top;\n",
       "    }\n",
       "\n",
       "    .dataframe thead th {\n",
       "        text-align: right;\n",
       "    }\n",
       "</style>\n",
       "<table border=\"1\" class=\"dataframe\">\n",
       "  <thead>\n",
       "    <tr style=\"text-align: right;\">\n",
       "      <th></th>\n",
       "      <th>Age</th>\n",
       "      <th>Gender</th>\n",
       "      <th>Review</th>\n",
       "      <th>Education</th>\n",
       "      <th>Purchased</th>\n",
       "    </tr>\n",
       "  </thead>\n",
       "  <tbody>\n",
       "    <tr>\n",
       "      <th>0</th>\n",
       "      <td>54</td>\n",
       "      <td>Male</td>\n",
       "      <td>good</td>\n",
       "      <td>UG</td>\n",
       "      <td>No</td>\n",
       "    </tr>\n",
       "    <tr>\n",
       "      <th>1</th>\n",
       "      <td>65</td>\n",
       "      <td>Female</td>\n",
       "      <td>avg</td>\n",
       "      <td>PG</td>\n",
       "      <td>yes</td>\n",
       "    </tr>\n",
       "    <tr>\n",
       "      <th>2</th>\n",
       "      <td>12</td>\n",
       "      <td>Male</td>\n",
       "      <td>avg</td>\n",
       "      <td>School</td>\n",
       "      <td>yes</td>\n",
       "    </tr>\n",
       "    <tr>\n",
       "      <th>3</th>\n",
       "      <td>54</td>\n",
       "      <td>Female</td>\n",
       "      <td>good</td>\n",
       "      <td>UG</td>\n",
       "      <td>No</td>\n",
       "    </tr>\n",
       "    <tr>\n",
       "      <th>4</th>\n",
       "      <td>68</td>\n",
       "      <td>Male</td>\n",
       "      <td>avg</td>\n",
       "      <td>UG</td>\n",
       "      <td>yes</td>\n",
       "    </tr>\n",
       "  </tbody>\n",
       "</table>\n",
       "</div>"
      ],
      "text/plain": [
       "   Age  Gender Review Education Purchased\n",
       "0   54    Male   good        UG        No\n",
       "1   65  Female    avg        PG       yes\n",
       "2   12    Male    avg    School       yes\n",
       "3   54  Female   good        UG        No\n",
       "4   68    Male    avg        UG       yes"
      ]
     },
     "execution_count": 61,
     "metadata": {},
     "output_type": "execute_result"
    }
   ],
   "source": [
    "df.head()"
   ]
  },
  {
   "cell_type": "markdown",
   "id": "3820c46c-8dca-460a-87ae-4b0b029a138b",
   "metadata": {},
   "source": [
    "Dataset Tail Count"
   ]
  },
  {
   "cell_type": "code",
   "execution_count": 62,
   "id": "36b1d380-2129-4562-9f0c-eec50c7f42e7",
   "metadata": {},
   "outputs": [
    {
     "data": {
      "text/html": [
       "<div>\n",
       "<style scoped>\n",
       "    .dataframe tbody tr th:only-of-type {\n",
       "        vertical-align: middle;\n",
       "    }\n",
       "\n",
       "    .dataframe tbody tr th {\n",
       "        vertical-align: top;\n",
       "    }\n",
       "\n",
       "    .dataframe thead th {\n",
       "        text-align: right;\n",
       "    }\n",
       "</style>\n",
       "<table border=\"1\" class=\"dataframe\">\n",
       "  <thead>\n",
       "    <tr style=\"text-align: right;\">\n",
       "      <th></th>\n",
       "      <th>Age</th>\n",
       "      <th>Gender</th>\n",
       "      <th>Review</th>\n",
       "      <th>Education</th>\n",
       "      <th>Purchased</th>\n",
       "    </tr>\n",
       "  </thead>\n",
       "  <tbody>\n",
       "    <tr>\n",
       "      <th>8</th>\n",
       "      <td>95</td>\n",
       "      <td>Female</td>\n",
       "      <td>poor</td>\n",
       "      <td>School</td>\n",
       "      <td>yes</td>\n",
       "    </tr>\n",
       "    <tr>\n",
       "      <th>9</th>\n",
       "      <td>35</td>\n",
       "      <td>Female</td>\n",
       "      <td>good</td>\n",
       "      <td>School</td>\n",
       "      <td>yes</td>\n",
       "    </tr>\n",
       "    <tr>\n",
       "      <th>10</th>\n",
       "      <td>15</td>\n",
       "      <td>Male</td>\n",
       "      <td>avg</td>\n",
       "      <td>PG</td>\n",
       "      <td>No</td>\n",
       "    </tr>\n",
       "    <tr>\n",
       "      <th>11</th>\n",
       "      <td>35</td>\n",
       "      <td>Female</td>\n",
       "      <td>good</td>\n",
       "      <td>School</td>\n",
       "      <td>No</td>\n",
       "    </tr>\n",
       "    <tr>\n",
       "      <th>12</th>\n",
       "      <td>65</td>\n",
       "      <td>Male</td>\n",
       "      <td>good</td>\n",
       "      <td>PG</td>\n",
       "      <td>yes</td>\n",
       "    </tr>\n",
       "  </tbody>\n",
       "</table>\n",
       "</div>"
      ],
      "text/plain": [
       "    Age  Gender Review Education Purchased\n",
       "8    95  Female   poor    School       yes\n",
       "9    35  Female   good    School       yes\n",
       "10   15    Male    avg        PG        No\n",
       "11   35  Female   good    School        No\n",
       "12   65    Male   good        PG       yes"
      ]
     },
     "execution_count": 62,
     "metadata": {},
     "output_type": "execute_result"
    }
   ],
   "source": [
    "df.tail()"
   ]
  },
  {
   "cell_type": "markdown",
   "id": "4eaafa20-4fb0-4b9c-8d70-98ffd2b661ca",
   "metadata": {},
   "source": [
    "To Viw Which are Entities in the Column "
   ]
  },
  {
   "cell_type": "code",
   "execution_count": 63,
   "id": "3bc86300-9a0e-4802-bfc7-6b0b6ad3677d",
   "metadata": {},
   "outputs": [
    {
     "data": {
      "text/plain": [
       "array(['good', 'avg', 'poor'], dtype=object)"
      ]
     },
     "execution_count": 63,
     "metadata": {},
     "output_type": "execute_result"
    }
   ],
   "source": [
    "df['Review'].unique()"
   ]
  },
  {
   "cell_type": "markdown",
   "id": "c0ecef30-ce5a-4f73-bd57-e806057287a4",
   "metadata": {},
   "source": [
    "To View Which and How Many Entities in the Column "
   ]
  },
  {
   "cell_type": "code",
   "execution_count": 65,
   "id": "d63f3314-c415-462c-91c5-b62a4c66acda",
   "metadata": {},
   "outputs": [
    {
     "data": {
      "text/plain": [
       "Review\n",
       "good    7\n",
       "avg     4\n",
       "poor    2\n",
       "Name: count, dtype: int64"
      ]
     },
     "execution_count": 65,
     "metadata": {},
     "output_type": "execute_result"
    }
   ],
   "source": [
    "df['Review'].value_counts()"
   ]
  },
  {
   "cell_type": "markdown",
   "id": "6f071754-1a0f-4eef-9ab2-7302693accb8",
   "metadata": {},
   "source": [
    "Will Apply Ordinal Encoding on 'Review' and 'Education' and Will Apply Label Encoding on 'Purchased'"
   ]
  },
  {
   "cell_type": "markdown",
   "id": "ea0aedf2-a198-4bc5-87b7-33ba3c436bce",
   "metadata": {},
   "source": [
    "Split Dataset for Apply Encoding Technique"
   ]
  },
  {
   "cell_type": "code",
   "execution_count": 5,
   "id": "08b24cba-aefe-4499-aaa6-97910cd45a17",
   "metadata": {},
   "outputs": [
    {
     "data": {
      "text/html": [
       "<div>\n",
       "<style scoped>\n",
       "    .dataframe tbody tr th:only-of-type {\n",
       "        vertical-align: middle;\n",
       "    }\n",
       "\n",
       "    .dataframe tbody tr th {\n",
       "        vertical-align: top;\n",
       "    }\n",
       "\n",
       "    .dataframe thead th {\n",
       "        text-align: right;\n",
       "    }\n",
       "</style>\n",
       "<table border=\"1\" class=\"dataframe\">\n",
       "  <thead>\n",
       "    <tr style=\"text-align: right;\">\n",
       "      <th></th>\n",
       "      <th>Review</th>\n",
       "      <th>Education</th>\n",
       "      <th>Purchased</th>\n",
       "    </tr>\n",
       "  </thead>\n",
       "  <tbody>\n",
       "    <tr>\n",
       "      <th>0</th>\n",
       "      <td>good</td>\n",
       "      <td>UG</td>\n",
       "      <td>No</td>\n",
       "    </tr>\n",
       "    <tr>\n",
       "      <th>1</th>\n",
       "      <td>avg</td>\n",
       "      <td>PG</td>\n",
       "      <td>yes</td>\n",
       "    </tr>\n",
       "    <tr>\n",
       "      <th>2</th>\n",
       "      <td>avg</td>\n",
       "      <td>School</td>\n",
       "      <td>yes</td>\n",
       "    </tr>\n",
       "    <tr>\n",
       "      <th>3</th>\n",
       "      <td>good</td>\n",
       "      <td>UG</td>\n",
       "      <td>No</td>\n",
       "    </tr>\n",
       "    <tr>\n",
       "      <th>4</th>\n",
       "      <td>avg</td>\n",
       "      <td>UG</td>\n",
       "      <td>yes</td>\n",
       "    </tr>\n",
       "  </tbody>\n",
       "</table>\n",
       "</div>"
      ],
      "text/plain": [
       "  Review Education Purchased\n",
       "0   good        UG        No\n",
       "1    avg        PG       yes\n",
       "2    avg    School       yes\n",
       "3   good        UG        No\n",
       "4    avg        UG       yes"
      ]
     },
     "execution_count": 5,
     "metadata": {},
     "output_type": "execute_result"
    }
   ],
   "source": [
    "sp_df = df.iloc[:, 2:]\n",
    "sp_df.head()"
   ]
  },
  {
   "cell_type": "markdown",
   "id": "d4f90edc-612e-4dee-a77c-2583df34fb51",
   "metadata": {},
   "source": [
    "Splited Column prepear for Train and Test"
   ]
  },
  {
   "cell_type": "code",
   "execution_count": 80,
   "id": "631b8dc3-e198-4c90-8fff-489fbf812aa4",
   "metadata": {},
   "outputs": [],
   "source": [
    "from sklearn.model_selection import train_test_split\n",
    "X_train, X_test, y_train, y_test = train_test_split(sp_df.iloc[:, 0:2], sp_df.iloc[:,-1], test_size = 0.2)"
   ]
  },
  {
   "cell_type": "code",
   "execution_count": 34,
   "id": "e3f9f98e-ed33-462d-90dc-c7eebc326d49",
   "metadata": {},
   "outputs": [
    {
     "data": {
      "text/html": [
       "<div>\n",
       "<style scoped>\n",
       "    .dataframe tbody tr th:only-of-type {\n",
       "        vertical-align: middle;\n",
       "    }\n",
       "\n",
       "    .dataframe tbody tr th {\n",
       "        vertical-align: top;\n",
       "    }\n",
       "\n",
       "    .dataframe thead th {\n",
       "        text-align: right;\n",
       "    }\n",
       "</style>\n",
       "<table border=\"1\" class=\"dataframe\">\n",
       "  <thead>\n",
       "    <tr style=\"text-align: right;\">\n",
       "      <th></th>\n",
       "      <th>Review</th>\n",
       "      <th>Education</th>\n",
       "    </tr>\n",
       "  </thead>\n",
       "  <tbody>\n",
       "    <tr>\n",
       "      <th>1</th>\n",
       "      <td>avg</td>\n",
       "      <td>PG</td>\n",
       "    </tr>\n",
       "    <tr>\n",
       "      <th>12</th>\n",
       "      <td>good</td>\n",
       "      <td>PG</td>\n",
       "    </tr>\n",
       "    <tr>\n",
       "      <th>3</th>\n",
       "      <td>good</td>\n",
       "      <td>UG</td>\n",
       "    </tr>\n",
       "    <tr>\n",
       "      <th>4</th>\n",
       "      <td>avg</td>\n",
       "      <td>UG</td>\n",
       "    </tr>\n",
       "    <tr>\n",
       "      <th>2</th>\n",
       "      <td>avg</td>\n",
       "      <td>School</td>\n",
       "    </tr>\n",
       "    <tr>\n",
       "      <th>11</th>\n",
       "      <td>good</td>\n",
       "      <td>School</td>\n",
       "    </tr>\n",
       "    <tr>\n",
       "      <th>0</th>\n",
       "      <td>good</td>\n",
       "      <td>UG</td>\n",
       "    </tr>\n",
       "    <tr>\n",
       "      <th>7</th>\n",
       "      <td>good</td>\n",
       "      <td>UG</td>\n",
       "    </tr>\n",
       "    <tr>\n",
       "      <th>6</th>\n",
       "      <td>good</td>\n",
       "      <td>UG</td>\n",
       "    </tr>\n",
       "    <tr>\n",
       "      <th>5</th>\n",
       "      <td>poor</td>\n",
       "      <td>School</td>\n",
       "    </tr>\n",
       "  </tbody>\n",
       "</table>\n",
       "</div>"
      ],
      "text/plain": [
       "   Review Education\n",
       "1     avg        PG\n",
       "12   good        PG\n",
       "3    good        UG\n",
       "4     avg        UG\n",
       "2     avg    School\n",
       "11   good    School\n",
       "0    good        UG\n",
       "7    good        UG\n",
       "6    good        UG\n",
       "5    poor    School"
      ]
     },
     "execution_count": 34,
     "metadata": {},
     "output_type": "execute_result"
    }
   ],
   "source": [
    "X_train"
   ]
  },
  {
   "cell_type": "code",
   "execution_count": 35,
   "id": "45e50bbd-6712-459a-bc47-d2b514835915",
   "metadata": {},
   "outputs": [
    {
     "data": {
      "text/html": [
       "<div>\n",
       "<style scoped>\n",
       "    .dataframe tbody tr th:only-of-type {\n",
       "        vertical-align: middle;\n",
       "    }\n",
       "\n",
       "    .dataframe tbody tr th {\n",
       "        vertical-align: top;\n",
       "    }\n",
       "\n",
       "    .dataframe thead th {\n",
       "        text-align: right;\n",
       "    }\n",
       "</style>\n",
       "<table border=\"1\" class=\"dataframe\">\n",
       "  <thead>\n",
       "    <tr style=\"text-align: right;\">\n",
       "      <th></th>\n",
       "      <th>Review</th>\n",
       "      <th>Education</th>\n",
       "    </tr>\n",
       "  </thead>\n",
       "  <tbody>\n",
       "    <tr>\n",
       "      <th>9</th>\n",
       "      <td>good</td>\n",
       "      <td>School</td>\n",
       "    </tr>\n",
       "    <tr>\n",
       "      <th>8</th>\n",
       "      <td>poor</td>\n",
       "      <td>School</td>\n",
       "    </tr>\n",
       "    <tr>\n",
       "      <th>10</th>\n",
       "      <td>avg</td>\n",
       "      <td>PG</td>\n",
       "    </tr>\n",
       "  </tbody>\n",
       "</table>\n",
       "</div>"
      ],
      "text/plain": [
       "   Review Education\n",
       "9    good    School\n",
       "8    poor    School\n",
       "10    avg        PG"
      ]
     },
     "execution_count": 35,
     "metadata": {},
     "output_type": "execute_result"
    }
   ],
   "source": [
    "X_test"
   ]
  },
  {
   "cell_type": "code",
   "execution_count": 36,
   "id": "33d81e67-5b6a-44e5-ad7a-fc9099dbe07a",
   "metadata": {},
   "outputs": [
    {
     "data": {
      "text/plain": [
       "1     yes\n",
       "12    yes\n",
       "3      No\n",
       "4     yes\n",
       "2     yes\n",
       "11     No\n",
       "0      No\n",
       "7      No\n",
       "6     yes\n",
       "5      No\n",
       "Name: Purchased, dtype: object"
      ]
     },
     "execution_count": 36,
     "metadata": {},
     "output_type": "execute_result"
    }
   ],
   "source": [
    "y_train"
   ]
  },
  {
   "cell_type": "code",
   "execution_count": 37,
   "id": "d0d0b431-b641-434e-90ad-84797bf6cbe8",
   "metadata": {},
   "outputs": [
    {
     "data": {
      "text/plain": [
       "9     yes\n",
       "8     yes\n",
       "10     No\n",
       "Name: Purchased, dtype: object"
      ]
     },
     "execution_count": 37,
     "metadata": {},
     "output_type": "execute_result"
    }
   ],
   "source": [
    "y_test"
   ]
  },
  {
   "cell_type": "markdown",
   "id": "9d6affd0-543e-4759-97dc-7ac70a8c8aa6",
   "metadata": {},
   "source": [
    "Apply Ordinal Encoder. Here is the order goes from low to high Exampl: 'poor' =0, 'avg' =1, 'good' =2 "
   ]
  },
  {
   "cell_type": "code",
   "execution_count": 82,
   "id": "db34640f-6c71-422b-8dd6-a11a2094688a",
   "metadata": {},
   "outputs": [],
   "source": [
    "from sklearn.preprocessing import OrdinalEncoder\n",
    "oe = OrdinalEncoder(categories = [['poor', 'avg', 'good'], ['School', 'UG', 'PG']])\n",
    "#oe.fit(X_train)"
   ]
  },
  {
   "cell_type": "markdown",
   "id": "bc02877b-dc25-44ec-84b1-fc981a77583c",
   "metadata": {},
   "source": [
    "Fit and Transform with Ordinal Encoder"
   ]
  },
  {
   "cell_type": "code",
   "execution_count": 83,
   "id": "fa520a4c-5d22-43c3-b5ad-0644f869f6ee",
   "metadata": {},
   "outputs": [],
   "source": [
    "X_train = oe.fit_transform(X_train)\n",
    "X_test = oe.fit_transform(X_test)"
   ]
  },
  {
   "cell_type": "code",
   "execution_count": 78,
   "id": "8a45ff81-0aa8-4d92-a2da-5bb08b8fa5b3",
   "metadata": {},
   "outputs": [
    {
     "data": {
      "text/plain": [
       "array([[2., 0.],\n",
       "       [2., 1.],\n",
       "       [1., 2.],\n",
       "       [0., 0.],\n",
       "       [1., 1.],\n",
       "       [2., 2.],\n",
       "       [2., 1.],\n",
       "       [0., 0.],\n",
       "       [2., 1.],\n",
       "       [1., 2.]])"
      ]
     },
     "execution_count": 78,
     "metadata": {},
     "output_type": "execute_result"
    }
   ],
   "source": [
    "X_train"
   ]
  },
  {
   "cell_type": "code",
   "execution_count": 43,
   "id": "88b2da60-411d-4968-8886-c014410a712a",
   "metadata": {},
   "outputs": [
    {
     "data": {
      "text/plain": [
       "array([[2., 0.],\n",
       "       [0., 0.],\n",
       "       [1., 2.]])"
      ]
     },
     "execution_count": 43,
     "metadata": {},
     "output_type": "execute_result"
    }
   ],
   "source": [
    "X_test"
   ]
  },
  {
   "cell_type": "code",
   "execution_count": 45,
   "id": "e19e2d6d-3aec-4259-8ac6-7afd8060db6f",
   "metadata": {},
   "outputs": [
    {
     "data": {
      "text/plain": [
       "[array(['poor', 'avg', 'good'], dtype=object),\n",
       " array(['School', 'UG', 'PG'], dtype=object)]"
      ]
     },
     "execution_count": 45,
     "metadata": {},
     "output_type": "execute_result"
    }
   ],
   "source": [
    "oe.categories_"
   ]
  },
  {
   "cell_type": "code",
   "execution_count": 89,
   "id": "5d8448d4-3362-4862-8b68-7786ed0fa4c8",
   "metadata": {},
   "outputs": [
    {
     "data": {
      "text/plain": [
       "Review       object\n",
       "Education    object\n",
       "Purchased    object\n",
       "dtype: object"
      ]
     },
     "execution_count": 89,
     "metadata": {},
     "output_type": "execute_result"
    }
   ],
   "source": [
    "sp_df.dtypes"
   ]
  },
  {
   "cell_type": "markdown",
   "id": "c48c57f0-6a72-4305-90e3-61d51fe5e130",
   "metadata": {},
   "source": [
    "____________________________________________________________________________________"
   ]
  },
  {
   "cell_type": "markdown",
   "id": "8067505d-1533-42b4-9bba-a9d793745449",
   "metadata": {},
   "source": [
    "**********Apply Label Encoder"
   ]
  },
  {
   "cell_type": "markdown",
   "id": "f459c275-9974-4d8d-9dc8-9262ba18968c",
   "metadata": {},
   "source": [
    "Apply Label Encoder on Targey/Output Column. **Note: Label Encoder always use for Targey/Output Column."
   ]
  },
  {
   "cell_type": "code",
   "execution_count": 84,
   "id": "d038c6d1-ccea-4274-8962-fca0cdd7e9b4",
   "metadata": {},
   "outputs": [],
   "source": [
    "from sklearn.preprocessing import LabelEncoder\n",
    "le = LabelEncoder()\n",
    "#le.fit(y_train)"
   ]
  },
  {
   "cell_type": "code",
   "execution_count": 86,
   "id": "6dccfa64-3b1b-4225-a195-b13ccc8e0c50",
   "metadata": {},
   "outputs": [],
   "source": [
    "y_train = le.fit_transform(y_train)\n",
    "y_test = le.fit_transform(y_test)"
   ]
  },
  {
   "cell_type": "code",
   "execution_count": 87,
   "id": "302defc6-63e5-4079-9d19-c6fa6b42accd",
   "metadata": {},
   "outputs": [
    {
     "data": {
      "text/plain": [
       "array([0, 1, 0, 1, 1, 0, 0, 1, 0, 1])"
      ]
     },
     "execution_count": 87,
     "metadata": {},
     "output_type": "execute_result"
    }
   ],
   "source": [
    "y_train"
   ]
  },
  {
   "cell_type": "code",
   "execution_count": 60,
   "id": "1fa3e3b8-f734-47cf-9149-01f171f2b13d",
   "metadata": {},
   "outputs": [
    {
     "data": {
      "text/plain": [
       "array([1, 1, 0], dtype=int64)"
      ]
     },
     "execution_count": 60,
     "metadata": {},
     "output_type": "execute_result"
    }
   ],
   "source": [
    "y_test"
   ]
  },
  {
   "cell_type": "code",
   "execution_count": 88,
   "id": "ad199029-03ec-428c-b12f-e0c33df9d76a",
   "metadata": {},
   "outputs": [
    {
     "data": {
      "text/plain": [
       "array(['No', 'yes'], dtype=object)"
      ]
     },
     "execution_count": 88,
     "metadata": {},
     "output_type": "execute_result"
    }
   ],
   "source": [
    "le.classes_"
   ]
  }
 ],
 "metadata": {
  "kernelspec": {
   "display_name": "Python 3 (ipykernel)",
   "language": "python",
   "name": "python3"
  },
  "language_info": {
   "codemirror_mode": {
    "name": "ipython",
    "version": 3
   },
   "file_extension": ".py",
   "mimetype": "text/x-python",
   "name": "python",
   "nbconvert_exporter": "python",
   "pygments_lexer": "ipython3",
   "version": "3.11.2"
  },
  "widgets": {
   "application/vnd.jupyter.widget-state+json": {
    "state": {},
    "version_major": 2,
    "version_minor": 0
   }
  }
 },
 "nbformat": 4,
 "nbformat_minor": 5
}
