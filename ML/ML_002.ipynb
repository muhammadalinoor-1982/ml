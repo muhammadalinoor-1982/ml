{
 "cells": [
  {
   "cell_type": "markdown",
   "id": "1a228b9c",
   "metadata": {},
   "source": [
    "Supervised Machine Learning: (1) Regression Algorithm and (2) Classification Algorithm\n",
    "\n",
    "        (1) Regression Algorithm (Numerical Data)   (2) Classification Algorithm (Categorical Data)\n",
    "        1) Linear Regression                        2 Types of Classification: Binary and Multiclass\n",
    "        2) Polynomial Regression                    1) Random Forest\n",
    "        3) Regression Trees                         2) Decision Trees\n",
    "                                                    3) Logistic Regression\n",
    "                                                    4) Support Vector Machine\n",
    "  Output: Numerical Data (Numbers Values)      Output: Categorical Data (String Values)\n"
   ]
  },
  {
   "cell_type": "markdown",
   "id": "f659d687-3aea-4ed7-a558-da537500c46d",
   "metadata": {},
   "source": [
    "2 Types of Categoricaal Data:\n",
    "                            1)Nominal\n",
    "                            2)Ordinal"
   ]
  }
 ],
 "metadata": {
  "kernelspec": {
   "display_name": "Python 3 (ipykernel)",
   "language": "python",
   "name": "python3"
  },
  "language_info": {
   "codemirror_mode": {
    "name": "ipython",
    "version": 3
   },
   "file_extension": ".py",
   "mimetype": "text/x-python",
   "name": "python",
   "nbconvert_exporter": "python",
   "pygments_lexer": "ipython3",
   "version": "3.11.2"
  }
 },
 "nbformat": 4,
 "nbformat_minor": 5
}
