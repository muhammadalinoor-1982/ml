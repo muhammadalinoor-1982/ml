{
 "cells": [
  {
   "cell_type": "markdown",
   "id": "890e92d7-65f1-4660-9d45-4b171e7ea5a4",
   "metadata": {},
   "source": [
    "# Machine Learning: "
   ]
  },
  {
   "cell_type": "markdown",
   "id": "3114cf1a-12e6-41d3-927e-4b55fb7e5ea4",
   "metadata": {},
   "source": [
    "1. Supervised (Input and Output features) Note: Input Meens Independent Features and Output Meems Dependent Features\n",
    "2. Unsupervised (Only Input Features)\n",
    "3. Semisupervised (Create Labels)\n",
    "4. Reinforcement (Nural Network)"
   ]
  },
  {
   "cell_type": "markdown",
   "id": "2227d5ae-6d57-4df3-b1d2-d5d82fc18354",
   "metadata": {},
   "source": [
    "# Supervised Learning:"
   ]
  },
  {
   "cell_type": "markdown",
   "id": "a3fda45b-fc83-4171-a844-f32156f828a5",
   "metadata": {},
   "source": [
    "1. Regression: If Output Features are Numerical (Numbers)\n",
    "2. Classification: If Output Features are Categorical (String)"
   ]
  },
  {
   "cell_type": "markdown",
   "id": "1a228b9c",
   "metadata": {},
   "source": [
    "        (1) Regression Algorithm (Numerical Data)   (2) Classification Algorithm (Categorical Data)\n",
    "        1) Linear Regression                        2 Types of Classification: Binary and Multiclass\n",
    "        2) Polynomial Regression                    1) Random Forest\n",
    "        3) Regression Trees                         2) Decision Trees\n",
    "                                                    3) Logistic Regression\n",
    "                                                    4) Support Vector Machine\n",
    "  Output: Numerical Data (Numbers Values) _______________Output: Categorical Data (String Values)\n"
   ]
  },
  {
   "cell_type": "markdown",
   "id": "53b3a453-2337-40bc-96ad-65668650f91a",
   "metadata": {},
   "source": [
    "# Unsupervised Learning:"
   ]
  },
  {
   "cell_type": "markdown",
   "id": "9f5c13b2-30c3-43d1-a813-8a11b7ebdd7f",
   "metadata": {},
   "source": [
    "1. Clustering: Detecting and Analyzing Data to Create Different Levels or Group Data\n",
    "2. Dimensionality Reduction: Reduce less Important Column it's called Feature Extraction. Example: PCA, Visualization\n",
    "3. Anomaly Detection: Detect OUTLIERS and Remove it\n",
    "4. Association Rule Learning: Correlations between Features"
   ]
  },
  {
   "cell_type": "markdown",
   "id": "4a8bd579-e680-4107-8ae8-a6f64aee6d17",
   "metadata": {},
   "source": [
    "# 2 Types of Categorical Data: "
   ]
  },
  {
   "cell_type": "markdown",
   "id": "576a8c13-8cb6-4774-b933-611f4af52858",
   "metadata": {},
   "source": [
    "1. Nominal\n",
    "2. Ordinal"
   ]
  },
  {
   "cell_type": "markdown",
   "id": "7cec60a5-ff23-42f3-b8b6-d56ccecbb40f",
   "metadata": {},
   "source": [
    "# Classification Algorithm"
   ]
  },
  {
   "cell_type": "markdown",
   "id": "2a9ae397-3f42-4ff6-85cc-2bedaeca4005",
   "metadata": {},
   "source": [
    "1. KNN (K-Nearest Neighbors)\n",
    "2. DT (Decision Tree)\n",
    "3. RF (Random Forest)\n",
    "4. NB (Naive Bayes)\n",
    "5. SVM (Support Vector Machine)\n",
    "6. LR (Logistic regression)\n",
    "7. AB (Ada Boost)\n",
    "8. Gradient\n",
    "9. Voting\n"
   ]
  },
  {
   "cell_type": "markdown",
   "id": "0bda6cda-0730-43f8-ac03-fa234677428f",
   "metadata": {},
   "source": [
    "# List of Encoder"
   ]
  },
  {
   "cell_type": "markdown",
   "id": "c85a99a9-224e-44bf-871f-004c6fe9ca70",
   "metadata": {},
   "source": [
    "1. Label Encoder\n",
    "2. Ordinal Encoder\n",
    "3. One Hot Encoder\n",
    "4. Get_Dummies Encoder\n",
    "5. Count Encoder\n",
    "6. Target Encoder\n",
    "7. Frequency Encoder\n",
    "8. Binary Encoder\n",
    "9. Feature Hashing"
   ]
  },
  {
   "cell_type": "markdown",
   "id": "15e5c8e1-f867-4728-8b2d-29867cb1736d",
   "metadata": {},
   "source": [
    "# List of EDA"
   ]
  },
  {
   "cell_type": "markdown",
   "id": "7c3841e3-9668-4ee8-bad0-f5811f3bcd33",
   "metadata": {},
   "source": [
    "1. Outliers\n",
    "2. Overfitted\n",
    "3. Undefeated\n",
    "4. Correlation\n",
    "5. ROC Curve\n",
    "6. AUC Curve"
   ]
  },
  {
   "cell_type": "markdown",
   "id": "204d8829-c5a7-42ad-8468-c6570252c2c0",
   "metadata": {},
   "source": [
    "# List of Feature Scaling"
   ]
  },
  {
   "cell_type": "markdown",
   "id": "9d8fd041-f9f1-461a-a092-6ff189e24b54",
   "metadata": {},
   "source": [
    "1. Normalization\n",
    "2. STD (Standard deviation)"
   ]
  }
 ],
 "metadata": {
  "kernelspec": {
   "display_name": "Python 3 (ipykernel)",
   "language": "python",
   "name": "python3"
  },
  "language_info": {
   "codemirror_mode": {
    "name": "ipython",
    "version": 3
   },
   "file_extension": ".py",
   "mimetype": "text/x-python",
   "name": "python",
   "nbconvert_exporter": "python",
   "pygments_lexer": "ipython3",
   "version": "3.11.5"
  },
  "widgets": {
   "application/vnd.jupyter.widget-state+json": {
    "state": {},
    "version_major": 2,
    "version_minor": 0
   }
  }
 },
 "nbformat": 4,
 "nbformat_minor": 5
}
