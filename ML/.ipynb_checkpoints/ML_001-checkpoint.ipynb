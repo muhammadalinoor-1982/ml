{
 "cells": [
  {
   "cell_type": "markdown",
   "id": "b6f7f287-48be-4f60-b900-e7596a1d19ea",
   "metadata": {},
   "source": [
    "Source: https://www.youtube.com/playlist?list=PLjVLYmrlmjGe-xLyoCdDrt8Nil1Alg_L3"
   ]
  },
  {
   "cell_type": "markdown",
   "id": "eb6d1aaa-fd7f-408c-b51e-491d589c2308",
   "metadata": {},
   "source": [
    "Machine Learning Start from 25/09/2023 at 7:00 PM"
   ]
  },
  {
   "cell_type": "markdown",
   "id": "67672398-f933-41c9-916c-ab87755d3f9e",
   "metadata": {},
   "source": [
    "Types of machine learning: Supervised, Unsupervised, and Reinforcement Learning."
   ]
  },
  {
   "cell_type": "markdown",
   "id": "90167875-65e9-49a0-80fa-52143bf26bfb",
   "metadata": {},
   "source": [
    "1. Data Collection (Raw Data)\n",
    "2. Data Preparation (Exploration)\n",
    "3. Data Wrangling (Cleaning, Converting, and Usable Formating)\n",
    "4. Data Modeling (Select Algorithms for Training)\n",
    "5. Model Training\n",
    "6. Model Test (Verification)\n",
    "7. Model Deployment"
   ]
  },
  {
   "cell_type": "markdown",
   "id": "9f1f8eec",
   "metadata": {},
   "source": [
    "Weak AI = Machine Learning >> Algorithms \n",
    "Strong AI = Deep Learning >> Multilear Neural Network"
   ]
  },
  {
   "cell_type": "markdown",
   "id": "2c43c64b",
   "metadata": {},
   "source": [
    "Types of Dataset: 1. Numerical Data, 2. Categorical Data, 3. Ordinal Data"
   ]
  },
  {
   "cell_type": "markdown",
   "id": "896641cd",
   "metadata": {},
   "source": [
    "Steps of Data Pre-Processing ro Exploratory Data Analysis (EDA):\n",
    "1. Collecting Dataset\n",
    "2. Import Python Libraries. Example: Numpy, Pandas, Matplotlib, Seaborn\n",
    "3. Include Dataset in CSV Format\n",
    "4. Find and Manage Null Values\n",
    "5. Label Encoding for Categorical/Group Data. Example: Gender = Male, Female\n",
    "6. Split Dataset for Train and Test\n",
    "7. Feature Scaling"
   ]
  },
  {
   "cell_type": "code",
   "execution_count": 4,
   "id": "0d7cb411",
   "metadata": {},
   "outputs": [],
   "source": [
    "import numpy as np\n",
    "import pandas as pd"
   ]
  },
  {
   "cell_type": "markdown",
   "id": "480818bc",
   "metadata": {},
   "source": [
    "#https://github.com/mwaskom/seaborn-data"
   ]
  },
  {
   "cell_type": "code",
   "execution_count": 7,
   "id": "f5a4dfb1",
   "metadata": {},
   "outputs": [
    {
     "data": {
      "text/html": [
       "<div>\n",
       "<style scoped>\n",
       "    .dataframe tbody tr th:only-of-type {\n",
       "        vertical-align: middle;\n",
       "    }\n",
       "\n",
       "    .dataframe tbody tr th {\n",
       "        vertical-align: top;\n",
       "    }\n",
       "\n",
       "    .dataframe thead th {\n",
       "        text-align: right;\n",
       "    }\n",
       "</style>\n",
       "<table border=\"1\" class=\"dataframe\">\n",
       "  <thead>\n",
       "    <tr style=\"text-align: right;\">\n",
       "      <th></th>\n",
       "      <th>Country</th>\n",
       "      <th>Age</th>\n",
       "      <th>Salary</th>\n",
       "      <th>Purchased</th>\n",
       "    </tr>\n",
       "  </thead>\n",
       "  <tbody>\n",
       "    <tr>\n",
       "      <th>0</th>\n",
       "      <td>India</td>\n",
       "      <td>54</td>\n",
       "      <td>3504</td>\n",
       "      <td>No</td>\n",
       "    </tr>\n",
       "    <tr>\n",
       "      <th>1</th>\n",
       "      <td>Pakistan</td>\n",
       "      <td>65</td>\n",
       "      <td>3693</td>\n",
       "      <td>yes</td>\n",
       "    </tr>\n",
       "    <tr>\n",
       "      <th>2</th>\n",
       "      <td>Nepal</td>\n",
       "      <td>12</td>\n",
       "      <td>3436</td>\n",
       "      <td>yes</td>\n",
       "    </tr>\n",
       "    <tr>\n",
       "      <th>3</th>\n",
       "      <td>Bhutan</td>\n",
       "      <td>54</td>\n",
       "      <td>3433</td>\n",
       "      <td>No</td>\n",
       "    </tr>\n",
       "    <tr>\n",
       "      <th>4</th>\n",
       "      <td>Indonesia</td>\n",
       "      <td>68</td>\n",
       "      <td>3449</td>\n",
       "      <td>yes</td>\n",
       "    </tr>\n",
       "    <tr>\n",
       "      <th>5</th>\n",
       "      <td>Malaysia</td>\n",
       "      <td>76</td>\n",
       "      <td>4341</td>\n",
       "      <td>No</td>\n",
       "    </tr>\n",
       "    <tr>\n",
       "      <th>6</th>\n",
       "      <td>Bangladesh</td>\n",
       "      <td>35</td>\n",
       "      <td>4354</td>\n",
       "      <td>yes</td>\n",
       "    </tr>\n",
       "    <tr>\n",
       "      <th>7</th>\n",
       "      <td>USA</td>\n",
       "      <td>95</td>\n",
       "      <td>4312</td>\n",
       "      <td>No</td>\n",
       "    </tr>\n",
       "    <tr>\n",
       "      <th>8</th>\n",
       "      <td>Canada</td>\n",
       "      <td>95</td>\n",
       "      <td>4425</td>\n",
       "      <td>yes</td>\n",
       "    </tr>\n",
       "    <tr>\n",
       "      <th>9</th>\n",
       "      <td>Australia</td>\n",
       "      <td>35</td>\n",
       "      <td>3850</td>\n",
       "      <td>yes</td>\n",
       "    </tr>\n",
       "    <tr>\n",
       "      <th>10</th>\n",
       "      <td>German</td>\n",
       "      <td>15</td>\n",
       "      <td>3563</td>\n",
       "      <td>No</td>\n",
       "    </tr>\n",
       "    <tr>\n",
       "      <th>11</th>\n",
       "      <td>France</td>\n",
       "      <td>35</td>\n",
       "      <td>3609</td>\n",
       "      <td>No</td>\n",
       "    </tr>\n",
       "    <tr>\n",
       "      <th>12</th>\n",
       "      <td>Netherlan</td>\n",
       "      <td>65</td>\n",
       "      <td>3761</td>\n",
       "      <td>yes</td>\n",
       "    </tr>\n",
       "  </tbody>\n",
       "</table>\n",
       "</div>"
      ],
      "text/plain": [
       "       Country  Age  Salary Purchased\n",
       "0       India    54    3504        No\n",
       "1     Pakistan   65    3693       yes\n",
       "2        Nepal   12    3436       yes\n",
       "3       Bhutan   54    3433        No\n",
       "4    Indonesia   68    3449       yes\n",
       "5     Malaysia   76    4341        No\n",
       "6   Bangladesh   35    4354       yes\n",
       "7          USA   95    4312        No\n",
       "8       Canada   95    4425       yes\n",
       "9    Australia   35    3850       yes\n",
       "10      German   15    3563        No\n",
       "11      France   35    3609        No\n",
       "12   Netherlan   65    3761       yes"
      ]
     },
     "execution_count": 7,
     "metadata": {},
     "output_type": "execute_result"
    }
   ],
   "source": [
    "df = pd.read_csv('Purchased.csv')\n",
    "df"
   ]
  },
  {
   "cell_type": "code",
   "execution_count": 10,
   "id": "d46fdc17",
   "metadata": {},
   "outputs": [
    {
     "data": {
      "text/plain": [
       "array([['India ', 54, 3504],\n",
       "       ['Pakistan', 65, 3693],\n",
       "       ['Nepal', 12, 3436],\n",
       "       ['Bhutan', 54, 3433],\n",
       "       ['Indonesia', 68, 3449],\n",
       "       ['Malaysia', 76, 4341],\n",
       "       ['Bangladesh', 35, 4354],\n",
       "       ['USA', 95, 4312],\n",
       "       ['Canada', 95, 4425],\n",
       "       ['Australia', 35, 3850],\n",
       "       ['German', 15, 3563],\n",
       "       ['France', 35, 3609],\n",
       "       ['Netherlan', 65, 3761]], dtype=object)"
      ]
     },
     "execution_count": 10,
     "metadata": {},
     "output_type": "execute_result"
    }
   ],
   "source": [
    "indp = df[['Country', 'Age', 'Salary']].values\n",
    "indp"
   ]
  },
  {
   "cell_type": "code",
   "execution_count": 12,
   "id": "436c1025",
   "metadata": {},
   "outputs": [
    {
     "data": {
      "text/plain": [
       "array([['No'],\n",
       "       ['yes'],\n",
       "       ['yes'],\n",
       "       ['No'],\n",
       "       ['yes'],\n",
       "       ['No'],\n",
       "       ['yes'],\n",
       "       ['No'],\n",
       "       ['yes'],\n",
       "       ['yes'],\n",
       "       ['No'],\n",
       "       ['No'],\n",
       "       ['yes']], dtype=object)"
      ]
     },
     "execution_count": 12,
     "metadata": {},
     "output_type": "execute_result"
    }
   ],
   "source": [
    "dpn = df[['Purchased']].values\n",
    "dpn"
   ]
  }
 ],
 "metadata": {
  "kernelspec": {
   "display_name": "Python 3 (ipykernel)",
   "language": "python",
   "name": "python3"
  },
  "language_info": {
   "codemirror_mode": {
    "name": "ipython",
    "version": 3
   },
   "file_extension": ".py",
   "mimetype": "text/x-python",
   "name": "python",
   "nbconvert_exporter": "python",
   "pygments_lexer": "ipython3",
   "version": "3.11.4"
  }
 },
 "nbformat": 4,
 "nbformat_minor": 5
}
