{
 "cells": [
  {
   "cell_type": "markdown",
   "id": "3474e673-a767-4cf0-9026-d8541d9abddc",
   "metadata": {},
   "source": [
    "# Missing value on univariate Categorical data"
   ]
  },
  {
   "cell_type": "markdown",
   "id": "90f144e1-c5f6-459d-ab9e-b43f3ab19459",
   "metadata": {},
   "source": [
    "# Missing Completely At Random (MCAR) using Mode\n",
    "    1. Random Value Imputation\n",
    "    2. Missing Indicator\n",
    "    3. Automatic Selection of Parameter"
   ]
  },
  {
   "cell_type": "markdown",
   "id": "c3a41a51-292e-4227-a866-ec5459916eb8",
   "metadata": {},
   "source": [
    "# 1. Random Value Imputation"
   ]
  },
  {
   "cell_type": "code",
   "execution_count": null,
   "id": "3dd255d1-dbfb-41f8-be5e-48d00534f62a",
   "metadata": {},
   "outputs": [],
   "source": []
  },
  {
   "cell_type": "code",
   "execution_count": null,
   "id": "97d38fec-390f-46f3-bf00-6343f831e743",
   "metadata": {},
   "outputs": [],
   "source": []
  },
  {
   "cell_type": "code",
   "execution_count": null,
   "id": "86d612e5-c3ab-4e50-9843-1f2d8f988b9a",
   "metadata": {},
   "outputs": [],
   "source": []
  },
  {
   "cell_type": "code",
   "execution_count": null,
   "id": "6ec98176-2456-4e19-9c77-695940089e35",
   "metadata": {},
   "outputs": [],
   "source": []
  },
  {
   "cell_type": "code",
   "execution_count": null,
   "id": "035f7888-3f21-4a09-b50a-1c546d8c10ba",
   "metadata": {},
   "outputs": [],
   "source": []
  },
  {
   "cell_type": "code",
   "execution_count": null,
   "id": "3c6a7ebf-0f63-4e5b-931d-45379c512c10",
   "metadata": {},
   "outputs": [],
   "source": []
  },
  {
   "cell_type": "code",
   "execution_count": null,
   "id": "dfe41ccf-da9f-4145-bfec-0d87c7614b2f",
   "metadata": {},
   "outputs": [],
   "source": []
  },
  {
   "cell_type": "code",
   "execution_count": null,
   "id": "74224a3d-e484-4840-9bee-5e29c967ec72",
   "metadata": {},
   "outputs": [],
   "source": []
  }
 ],
 "metadata": {
  "kernelspec": {
   "display_name": "Python 3 (ipykernel)",
   "language": "python",
   "name": "python3"
  },
  "language_info": {
   "codemirror_mode": {
    "name": "ipython",
    "version": 3
   },
   "file_extension": ".py",
   "mimetype": "text/x-python",
   "name": "python",
   "nbconvert_exporter": "python",
   "pygments_lexer": "ipython3",
   "version": "3.11.5"
  }
 },
 "nbformat": 4,
 "nbformat_minor": 5
}
