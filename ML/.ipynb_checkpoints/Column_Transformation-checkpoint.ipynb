{
 "cells": [
  {
   "cell_type": "markdown",
   "id": "3d3b658b-b080-4c5b-89db-8f67fac7e2ff",
   "metadata": {},
   "source": [
    "After Apply Single or Multiple Encoder then Use 'ColumnTransformer' of sklearn.compose to concatinate all the columns"
   ]
  },
  {
   "cell_type": "code",
   "execution_count": 2,
   "id": "81ac433f-c912-4fe4-9196-2dfbc7baf775",
   "metadata": {},
   "outputs": [],
   "source": [
    "import numpy as np\n",
    "import pandas as pd"
   ]
  },
  {
   "cell_type": "code",
   "execution_count": 3,
   "id": "935e906e-ef51-4a4c-b10b-cf0174688d7f",
   "metadata": {},
   "outputs": [],
   "source": [
    "from sklearn.impute import SimpleImputer\n",
    "from sklearn.preprocessing import OneHotEncoder\n",
    "from sklearn.preprocessing import OrdinalEncoder"
   ]
  },
  {
   "cell_type": "code",
   "execution_count": 12,
   "id": "dbd945fd-2079-4be6-843b-2cee9c58f190",
   "metadata": {},
   "outputs": [
    {
     "data": {
      "text/html": [
       "<div>\n",
       "<style scoped>\n",
       "    .dataframe tbody tr th:only-of-type {\n",
       "        vertical-align: middle;\n",
       "    }\n",
       "\n",
       "    .dataframe tbody tr th {\n",
       "        vertical-align: top;\n",
       "    }\n",
       "\n",
       "    .dataframe thead th {\n",
       "        text-align: right;\n",
       "    }\n",
       "</style>\n",
       "<table border=\"1\" class=\"dataframe\">\n",
       "  <thead>\n",
       "    <tr style=\"text-align: right;\">\n",
       "      <th></th>\n",
       "      <th>Age</th>\n",
       "      <th>Gender</th>\n",
       "      <th>Fever</th>\n",
       "      <th>Cough</th>\n",
       "      <th>City</th>\n",
       "      <th>Has_Covid</th>\n",
       "    </tr>\n",
       "  </thead>\n",
       "  <tbody>\n",
       "    <tr>\n",
       "      <th>0</th>\n",
       "      <td>29</td>\n",
       "      <td>female</td>\n",
       "      <td>1997.0</td>\n",
       "      <td>Mild</td>\n",
       "      <td>Kolkata</td>\n",
       "      <td>Yes</td>\n",
       "    </tr>\n",
       "    <tr>\n",
       "      <th>1</th>\n",
       "      <td>19</td>\n",
       "      <td>male</td>\n",
       "      <td>2006.0</td>\n",
       "      <td>Strong</td>\n",
       "      <td>Dehli</td>\n",
       "      <td>No</td>\n",
       "    </tr>\n",
       "    <tr>\n",
       "      <th>2</th>\n",
       "      <td>17</td>\n",
       "      <td>male</td>\n",
       "      <td>1998.0</td>\n",
       "      <td>Strong</td>\n",
       "      <td>Mumbai</td>\n",
       "      <td>Yes</td>\n",
       "    </tr>\n",
       "    <tr>\n",
       "      <th>3</th>\n",
       "      <td>26</td>\n",
       "      <td>male</td>\n",
       "      <td>2010.0</td>\n",
       "      <td>Mild</td>\n",
       "      <td>Dehli</td>\n",
       "      <td>Yes</td>\n",
       "    </tr>\n",
       "    <tr>\n",
       "      <th>4</th>\n",
       "      <td>32</td>\n",
       "      <td>male</td>\n",
       "      <td>2013.0</td>\n",
       "      <td>Strong</td>\n",
       "      <td>Chennai</td>\n",
       "      <td>No</td>\n",
       "    </tr>\n",
       "    <tr>\n",
       "      <th>5</th>\n",
       "      <td>16</td>\n",
       "      <td>female</td>\n",
       "      <td>NaN</td>\n",
       "      <td>Mild</td>\n",
       "      <td>Kolkata</td>\n",
       "      <td>Yes</td>\n",
       "    </tr>\n",
       "    <tr>\n",
       "      <th>6</th>\n",
       "      <td>21</td>\n",
       "      <td>female</td>\n",
       "      <td>2006.0</td>\n",
       "      <td>Mild</td>\n",
       "      <td>Dehli</td>\n",
       "      <td>No</td>\n",
       "    </tr>\n",
       "    <tr>\n",
       "      <th>7</th>\n",
       "      <td>26</td>\n",
       "      <td>female</td>\n",
       "      <td>2017.0</td>\n",
       "      <td>Mild</td>\n",
       "      <td>Mumbai</td>\n",
       "      <td>No</td>\n",
       "    </tr>\n",
       "    <tr>\n",
       "      <th>8</th>\n",
       "      <td>32</td>\n",
       "      <td>female</td>\n",
       "      <td>2009.0</td>\n",
       "      <td>Strong</td>\n",
       "      <td>Dehli</td>\n",
       "      <td>Yes</td>\n",
       "    </tr>\n",
       "    <tr>\n",
       "      <th>9</th>\n",
       "      <td>25</td>\n",
       "      <td>male</td>\n",
       "      <td>1997.0</td>\n",
       "      <td>Strong</td>\n",
       "      <td>Chennai</td>\n",
       "      <td>No</td>\n",
       "    </tr>\n",
       "  </tbody>\n",
       "</table>\n",
       "</div>"
      ],
      "text/plain": [
       "   Age  Gender   Fever   Cough     City Has_Covid\n",
       "0   29  female  1997.0    Mild  Kolkata       Yes\n",
       "1   19    male  2006.0  Strong    Dehli        No\n",
       "2   17    male  1998.0  Strong   Mumbai       Yes\n",
       "3   26    male  2010.0    Mild    Dehli       Yes\n",
       "4   32    male  2013.0  Strong  Chennai        No\n",
       "5   16  female     NaN    Mild  Kolkata       Yes\n",
       "6   21  female  2006.0    Mild    Dehli        No\n",
       "7   26  female  2017.0    Mild   Mumbai        No\n",
       "8   32  female  2009.0  Strong    Dehli       Yes\n",
       "9   25    male  1997.0  Strong  Chennai        No"
      ]
     },
     "execution_count": 12,
     "metadata": {},
     "output_type": "execute_result"
    }
   ],
   "source": [
    "df = pd.read_csv('Column_Transformation.csv')\n",
    "df.head(10)\n",
    "#df.isnull().sum()"
   ]
  },
  {
   "cell_type": "markdown",
   "id": "06815dd2-df87-460e-b878-374cc5a33eea",
   "metadata": {},
   "source": [
    "Train and Test Model"
   ]
  },
  {
   "cell_type": "code",
   "execution_count": 5,
   "id": "853f05cd-ef00-4086-ae28-5c06a64c08fd",
   "metadata": {},
   "outputs": [],
   "source": [
    "from sklearn.model_selection import train_test_split\n",
    "X_train, X_test, y_train, y_test = train_test_split(df.drop(columns=['Has_Covid']), df['Has_Covid'], test_size = 0.2)"
   ]
  },
  {
   "cell_type": "code",
   "execution_count": 6,
   "id": "7fb1de86-6fd8-4d76-a88b-0630af72949e",
   "metadata": {},
   "outputs": [
    {
     "data": {
      "text/html": [
       "<div>\n",
       "<style scoped>\n",
       "    .dataframe tbody tr th:only-of-type {\n",
       "        vertical-align: middle;\n",
       "    }\n",
       "\n",
       "    .dataframe tbody tr th {\n",
       "        vertical-align: top;\n",
       "    }\n",
       "\n",
       "    .dataframe thead th {\n",
       "        text-align: right;\n",
       "    }\n",
       "</style>\n",
       "<table border=\"1\" class=\"dataframe\">\n",
       "  <thead>\n",
       "    <tr style=\"text-align: right;\">\n",
       "      <th></th>\n",
       "      <th>Age</th>\n",
       "      <th>Gender</th>\n",
       "      <th>Fever</th>\n",
       "      <th>Cough</th>\n",
       "      <th>City</th>\n",
       "    </tr>\n",
       "  </thead>\n",
       "  <tbody>\n",
       "    <tr>\n",
       "      <th>3</th>\n",
       "      <td>26</td>\n",
       "      <td>male</td>\n",
       "      <td>2010.0</td>\n",
       "      <td>Mild</td>\n",
       "      <td>Dehli</td>\n",
       "    </tr>\n",
       "    <tr>\n",
       "      <th>44</th>\n",
       "      <td>16</td>\n",
       "      <td>female</td>\n",
       "      <td>2009.0</td>\n",
       "      <td>Strong</td>\n",
       "      <td>Chennai</td>\n",
       "    </tr>\n",
       "    <tr>\n",
       "      <th>43</th>\n",
       "      <td>37</td>\n",
       "      <td>male</td>\n",
       "      <td>2005.0</td>\n",
       "      <td>Strong</td>\n",
       "      <td>Dehli</td>\n",
       "    </tr>\n",
       "    <tr>\n",
       "      <th>45</th>\n",
       "      <td>24</td>\n",
       "      <td>male</td>\n",
       "      <td>NaN</td>\n",
       "      <td>Mild</td>\n",
       "      <td>Kolkata</td>\n",
       "    </tr>\n",
       "    <tr>\n",
       "      <th>40</th>\n",
       "      <td>25</td>\n",
       "      <td>female</td>\n",
       "      <td>2002.0</td>\n",
       "      <td>Mild</td>\n",
       "      <td>Kolkata</td>\n",
       "    </tr>\n",
       "  </tbody>\n",
       "</table>\n",
       "</div>"
      ],
      "text/plain": [
       "    Age  Gender   Fever   Cough     City\n",
       "3    26    male  2010.0    Mild    Dehli\n",
       "44   16  female  2009.0  Strong  Chennai\n",
       "43   37    male  2005.0  Strong    Dehli\n",
       "45   24    male     NaN    Mild  Kolkata\n",
       "40   25  female  2002.0    Mild  Kolkata"
      ]
     },
     "execution_count": 6,
     "metadata": {},
     "output_type": "execute_result"
    }
   ],
   "source": [
    "X_train.head()"
   ]
  },
  {
   "cell_type": "markdown",
   "id": "d166207c-153a-4346-9a9c-4aed2eeb1547",
   "metadata": {},
   "source": [
    "Filled up missing Values using Mean"
   ]
  },
  {
   "cell_type": "code",
   "execution_count": 7,
   "id": "85d7fb04-e365-4cb7-b28a-4bda24af694e",
   "metadata": {},
   "outputs": [],
   "source": [
    "si = SimpleImputer()\n",
    "X_train_fever = si.fit_transform(X_train[['Fever']])\n",
    "X_test_fever = si.fit_transform(X_test[['Fever']])"
   ]
  },
  {
   "cell_type": "code",
   "execution_count": 13,
   "id": "f3adfebd-6465-4479-a3c5-b8a653460b3c",
   "metadata": {},
   "outputs": [
    {
     "data": {
      "text/plain": [
       "(39, 1)"
      ]
     },
     "execution_count": 13,
     "metadata": {},
     "output_type": "execute_result"
    }
   ],
   "source": [
    "X_train_fever.shape"
   ]
  },
  {
   "cell_type": "markdown",
   "id": "9f1bc974-dbe3-4777-9522-bbf5237ae9d4",
   "metadata": {},
   "source": [
    "Apply Column Tranformation using sklearn.compose"
   ]
  },
  {
   "cell_type": "code",
   "execution_count": 9,
   "id": "80ea99f0-b0fa-47fa-bb5d-d93c2ea6dc8e",
   "metadata": {},
   "outputs": [],
   "source": [
    "from sklearn.compose import ColumnTransformer\n",
    "CT = ColumnTransformer(transformers=[\n",
    "    ('tnf1', SimpleImputer(), ['Fever']),\n",
    "    ('tnf2', OrdinalEncoder(categories = [['Mild', 'Strong']]), ['Cough']),\n",
    "    ('tnf3', OneHotEncoder(sparse=False, drop='first'), ['Gender', 'City'])\n",
    "], remainder='passthrough')"
   ]
  },
  {
   "cell_type": "markdown",
   "id": "adc8490e-7589-4610-8c09-25de00f54cbe",
   "metadata": {},
   "source": [
    "Fit Transform "
   ]
  },
  {
   "cell_type": "code",
   "execution_count": 10,
   "id": "22f1f356-df06-4976-a481-8d1faf23f82a",
   "metadata": {},
   "outputs": [
    {
     "name": "stderr",
     "output_type": "stream",
     "text": [
      "E:\\python\\Lib\\site-packages\\sklearn\\preprocessing\\_encoders.py:975: FutureWarning: `sparse` was renamed to `sparse_output` in version 1.2 and will be removed in 1.4. `sparse_output` is ignored unless you leave `sparse` to its default value.\n",
      "  warnings.warn(\n"
     ]
    },
    {
     "data": {
      "text/plain": [
       "array([[2.01000000e+03, 0.00000000e+00, 1.00000000e+00, 1.00000000e+00,\n",
       "        0.00000000e+00, 0.00000000e+00, 2.60000000e+01],\n",
       "       [2.00900000e+03, 1.00000000e+00, 0.00000000e+00, 0.00000000e+00,\n",
       "        0.00000000e+00, 0.00000000e+00, 1.60000000e+01],\n",
       "       [2.00500000e+03, 1.00000000e+00, 1.00000000e+00, 1.00000000e+00,\n",
       "        0.00000000e+00, 0.00000000e+00, 3.70000000e+01],\n",
       "       [2.00144118e+03, 0.00000000e+00, 1.00000000e+00, 0.00000000e+00,\n",
       "        1.00000000e+00, 0.00000000e+00, 2.40000000e+01],\n",
       "       [2.00200000e+03, 0.00000000e+00, 0.00000000e+00, 0.00000000e+00,\n",
       "        1.00000000e+00, 0.00000000e+00, 2.50000000e+01],\n",
       "       [2.00600000e+03, 1.00000000e+00, 1.00000000e+00, 1.00000000e+00,\n",
       "        0.00000000e+00, 0.00000000e+00, 1.90000000e+01],\n",
       "       [1.99700000e+03, 0.00000000e+00, 0.00000000e+00, 1.00000000e+00,\n",
       "        0.00000000e+00, 0.00000000e+00, 4.70000000e+01],\n",
       "       [2.01400000e+03, 0.00000000e+00, 0.00000000e+00, 0.00000000e+00,\n",
       "        0.00000000e+00, 0.00000000e+00, 2.10000000e+01],\n",
       "       [2.00600000e+03, 0.00000000e+00, 1.00000000e+00, 1.00000000e+00,\n",
       "        0.00000000e+00, 0.00000000e+00, 2.80000000e+01],\n",
       "       [2.01300000e+03, 1.00000000e+00, 1.00000000e+00, 0.00000000e+00,\n",
       "        0.00000000e+00, 0.00000000e+00, 3.20000000e+01],\n",
       "       [1.99100000e+03, 0.00000000e+00, 0.00000000e+00, 0.00000000e+00,\n",
       "        1.00000000e+00, 0.00000000e+00, 4.50000000e+01],\n",
       "       [1.99700000e+03, 0.00000000e+00, 1.00000000e+00, 1.00000000e+00,\n",
       "        0.00000000e+00, 0.00000000e+00, 2.00000000e+01],\n",
       "       [1.98900000e+03, 0.00000000e+00, 1.00000000e+00, 0.00000000e+00,\n",
       "        1.00000000e+00, 0.00000000e+00, 2.60000000e+01],\n",
       "       [1.99800000e+03, 1.00000000e+00, 1.00000000e+00, 0.00000000e+00,\n",
       "        0.00000000e+00, 1.00000000e+00, 1.70000000e+01],\n",
       "       [1.99700000e+03, 0.00000000e+00, 0.00000000e+00, 0.00000000e+00,\n",
       "        1.00000000e+00, 0.00000000e+00, 2.90000000e+01],\n",
       "       [2.00000000e+03, 1.00000000e+00, 0.00000000e+00, 0.00000000e+00,\n",
       "        0.00000000e+00, 1.00000000e+00, 2.50000000e+01],\n",
       "       [2.00100000e+03, 0.00000000e+00, 0.00000000e+00, 1.00000000e+00,\n",
       "        0.00000000e+00, 0.00000000e+00, 2.30000000e+01],\n",
       "       [1.98200000e+03, 1.00000000e+00, 0.00000000e+00, 1.00000000e+00,\n",
       "        0.00000000e+00, 0.00000000e+00, 3.30000000e+01],\n",
       "       [1.99700000e+03, 1.00000000e+00, 1.00000000e+00, 0.00000000e+00,\n",
       "        0.00000000e+00, 0.00000000e+00, 2.50000000e+01],\n",
       "       [2.00144118e+03, 0.00000000e+00, 0.00000000e+00, 0.00000000e+00,\n",
       "        1.00000000e+00, 0.00000000e+00, 1.60000000e+01],\n",
       "       [1.98800000e+03, 1.00000000e+00, 0.00000000e+00, 1.00000000e+00,\n",
       "        0.00000000e+00, 0.00000000e+00, 5.90000000e+01],\n",
       "       [2.01700000e+03, 0.00000000e+00, 0.00000000e+00, 0.00000000e+00,\n",
       "        0.00000000e+00, 1.00000000e+00, 2.60000000e+01],\n",
       "       [1.99400000e+03, 0.00000000e+00, 1.00000000e+00, 0.00000000e+00,\n",
       "        1.00000000e+00, 0.00000000e+00, 2.30000000e+01],\n",
       "       [2.00900000e+03, 1.00000000e+00, 0.00000000e+00, 1.00000000e+00,\n",
       "        0.00000000e+00, 0.00000000e+00, 3.20000000e+01],\n",
       "       [2.00300000e+03, 0.00000000e+00, 1.00000000e+00, 0.00000000e+00,\n",
       "        0.00000000e+00, 1.00000000e+00, 1.90000000e+01],\n",
       "       [2.01300000e+03, 1.00000000e+00, 0.00000000e+00, 0.00000000e+00,\n",
       "        0.00000000e+00, 0.00000000e+00, 2.80000000e+01],\n",
       "       [2.00400000e+03, 0.00000000e+00, 1.00000000e+00, 1.00000000e+00,\n",
       "        0.00000000e+00, 0.00000000e+00, 6.50000000e+01],\n",
       "       [1.99000000e+03, 1.00000000e+00, 1.00000000e+00, 1.00000000e+00,\n",
       "        0.00000000e+00, 0.00000000e+00, 1.60000000e+01],\n",
       "       [2.01000000e+03, 1.00000000e+00, 1.00000000e+00, 0.00000000e+00,\n",
       "        0.00000000e+00, 0.00000000e+00, 2.90000000e+01],\n",
       "       [2.00100000e+03, 0.00000000e+00, 0.00000000e+00, 1.00000000e+00,\n",
       "        0.00000000e+00, 0.00000000e+00, 3.20000000e+01],\n",
       "       [2.00144118e+03, 1.00000000e+00, 1.00000000e+00, 0.00000000e+00,\n",
       "        0.00000000e+00, 1.00000000e+00, 3.70000000e+01],\n",
       "       [2.00600000e+03, 1.00000000e+00, 0.00000000e+00, 1.00000000e+00,\n",
       "        0.00000000e+00, 0.00000000e+00, 2.40000000e+01],\n",
       "       [2.00144118e+03, 0.00000000e+00, 1.00000000e+00, 0.00000000e+00,\n",
       "        0.00000000e+00, 0.00000000e+00, 4.60000000e+01],\n",
       "       [1.98700000e+03, 0.00000000e+00, 1.00000000e+00, 0.00000000e+00,\n",
       "        0.00000000e+00, 1.00000000e+00, 8.90000000e+01],\n",
       "       [2.00144118e+03, 0.00000000e+00, 1.00000000e+00, 1.00000000e+00,\n",
       "        0.00000000e+00, 0.00000000e+00, 2.30000000e+01],\n",
       "       [2.00200000e+03, 0.00000000e+00, 0.00000000e+00, 1.00000000e+00,\n",
       "        0.00000000e+00, 0.00000000e+00, 3.40000000e+01],\n",
       "       [2.00500000e+03, 0.00000000e+00, 1.00000000e+00, 0.00000000e+00,\n",
       "        0.00000000e+00, 0.00000000e+00, 2.40000000e+01],\n",
       "       [2.01100000e+03, 1.00000000e+00, 0.00000000e+00, 1.00000000e+00,\n",
       "        0.00000000e+00, 0.00000000e+00, 7.50000000e+01],\n",
       "       [1.99500000e+03, 1.00000000e+00, 1.00000000e+00, 1.00000000e+00,\n",
       "        0.00000000e+00, 0.00000000e+00, 2.30000000e+01]])"
      ]
     },
     "execution_count": 10,
     "metadata": {},
     "output_type": "execute_result"
    }
   ],
   "source": [
    "CT.fit_transform(X_train)"
   ]
  },
  {
   "cell_type": "markdown",
   "id": "d2a76d62-cf03-49af-8b7d-37180f6976be",
   "metadata": {},
   "source": [
    "Transform with Shape"
   ]
  },
  {
   "cell_type": "code",
   "execution_count": 14,
   "id": "3a45a084-17ef-4845-88b0-441367a7e262",
   "metadata": {},
   "outputs": [
    {
     "data": {
      "text/plain": [
       "(10, 7)"
      ]
     },
     "execution_count": 14,
     "metadata": {},
     "output_type": "execute_result"
    }
   ],
   "source": [
    "CT.transform(X_test).shape"
   ]
  }
 ],
 "metadata": {
  "kernelspec": {
   "display_name": "Python 3 (ipykernel)",
   "language": "python",
   "name": "python3"
  },
  "language_info": {
   "codemirror_mode": {
    "name": "ipython",
    "version": 3
   },
   "file_extension": ".py",
   "mimetype": "text/x-python",
   "name": "python",
   "nbconvert_exporter": "python",
   "pygments_lexer": "ipython3",
   "version": "3.11.2"
  },
  "widgets": {
   "application/vnd.jupyter.widget-state+json": {
    "state": {},
    "version_major": 2,
    "version_minor": 0
   }
  }
 },
 "nbformat": 4,
 "nbformat_minor": 5
}
