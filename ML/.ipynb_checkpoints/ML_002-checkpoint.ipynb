{
 "cells": [
  {
   "cell_type": "markdown",
   "id": "1a228b9c",
   "metadata": {},
   "source": [
    "Supervised Machine Learning: (1) Regression Algorithm and (2) Classification Algorithm\n",
    "\n",
    "        (1) Regression Algorithm (Numerical Data)   (2) Classification Algorithm (Categorical Data)\n",
    "        1) Linear Regression                        2 Types of Classification: Binary and Multiclass\n",
    "        2) Polynomial Regression                    1) Random Forest\n",
    "        3) Regression Trees                         2) Decision Trees\n",
    "                                                    3) Logistic Regression\n",
    "                                                    4) Support Vector Machine\n",
    "  Output: Numerical Data (Numbers Values) _______________Output: Categorical Data (String Values)\n"
   ]
  },
  {
   "cell_type": "markdown",
   "id": "576a8c13-8cb6-4774-b933-611f4af52858",
   "metadata": {},
   "source": [
    "2 Types of Categorical Data: \n",
    "1. Nominal\n",
    "2. Ordinal"
   ]
  },
  {
   "cell_type": "markdown",
   "id": "2a9ae397-3f42-4ff6-85cc-2bedaeca4005",
   "metadata": {},
   "source": [
    "Classification Algorithm\n",
    "1. KNN (K-Nearest Neighbors)\n",
    "2. DT (Decision Tree)\n",
    "3. RF (Random Forest)\n",
    "4. NB (Naive Bayes)\n",
    "5. SVM (Support Vector Machine)\n",
    "6. LR (Logistic regression)\n",
    "7. AB (Ada Boost)\n",
    "8. Gradient\n",
    "9. Voting\n"
   ]
  },
  {
   "cell_type": "markdown",
   "id": "c85a99a9-224e-44bf-871f-004c6fe9ca70",
   "metadata": {},
   "source": [
    "List of Encoder\n",
    "1. Label Encoder\n",
    "2. Ordinal Encoder\n",
    "3. One Hot Encoder\n",
    "4. Get_Dummies Encoder\n",
    "5. Count Encoder\n",
    "6. Target Encoder\n",
    "7. Frequency Encoder\n",
    "8. Binary Encoder\n",
    "9. Feature Hashing"
   ]
  },
  {
   "cell_type": "markdown",
   "id": "7c3841e3-9668-4ee8-bad0-f5811f3bcd33",
   "metadata": {},
   "source": [
    "List of EDA\n",
    "1. Outliers\n",
    "2. Overfitted\n",
    "3. Undefeated\n",
    "4. Correlation\n",
    "5. ROC Curve\n",
    "6. AUC Curve"
   ]
  },
  {
   "cell_type": "markdown",
   "id": "9d8fd041-f9f1-461a-a092-6ff189e24b54",
   "metadata": {},
   "source": [
    "List of Feature Scaling\n",
    "1. Normalization\n",
    "2. STD (Standard deviation)"
   ]
  }
 ],
 "metadata": {
  "kernelspec": {
   "display_name": "Python 3 (ipykernel)",
   "language": "python",
   "name": "python3"
  },
  "language_info": {
   "codemirror_mode": {
    "name": "ipython",
    "version": 3
   },
   "file_extension": ".py",
   "mimetype": "text/x-python",
   "name": "python",
   "nbconvert_exporter": "python",
   "pygments_lexer": "ipython3",
   "version": "3.11.2"
  },
  "widgets": {
   "application/vnd.jupyter.widget-state+json": {
    "state": {},
    "version_major": 2,
    "version_minor": 0
   }
  }
 },
 "nbformat": 4,
 "nbformat_minor": 5
}
