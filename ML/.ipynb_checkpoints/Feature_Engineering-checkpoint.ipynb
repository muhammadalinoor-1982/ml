{
 "cells": [
  {
   "cell_type": "markdown",
   "id": "23c88fd7",
   "metadata": {},
   "source": [
    "# Feature Engineering:\n",
    "    1. Feature Transformation\n",
    "        a) Missing Value Imputation\n",
    "        b) Handling Categorical Features\n",
    "        c) Outlires Detection\n",
    "        d) Feature Scaling\n",
    "    2. Feature Constrauction\n",
    "    3. Feature Selection\n",
    "    4. Feature Extraction"
   ]
  },
  {
   "cell_type": "markdown",
   "id": "dd0f507b",
   "metadata": {},
   "source": [
    "# Feature Scaling\n",
    "    1. Standardization (Z-Score Normalization)\n",
    "        Note: \n",
    "            I)sigma is symbole of Standard Daviation\n",
    "            II) In Standardization, Mean should be 0 and Standard Daviation should be 1\n",
    "        a) K-Means\n",
    "        b) KNN\n",
    "        c) ANN\n",
    "        d) PCA\n",
    "        e) Gradient Descent\n",
    "        Note: No Need to Applt Standardization: Decision Tree, Random Forest, Gradient Boost, XGBoost\n",
    "        \n",
    "    2. Normalization\n",
    "        a) Minmax Scaler\n",
    "        b) Robust Scaler"
   ]
  },
  {
   "cell_type": "markdown",
   "id": "c1e75b60",
   "metadata": {},
   "source": []
  },
  {
   "cell_type": "code",
   "execution_count": 2,
   "id": "6f94104a-b364-4ff3-9fe6-bfdb018eda7b",
   "metadata": {
    "tags": []
   },
   "outputs": [],
   "source": [
    "# Standardization"
   ]
  },
  {
   "cell_type": "code",
   "execution_count": null,
   "id": "f71f0a90",
   "metadata": {},
   "outputs": [],
   "source": []
  }
 ],
 "metadata": {
  "kernelspec": {
   "display_name": "Python 3 (ipykernel)",
   "language": "python",
   "name": "python3"
  },
  "language_info": {
   "codemirror_mode": {
    "name": "ipython",
    "version": 3
   },
   "file_extension": ".py",
   "mimetype": "text/x-python",
   "name": "python",
   "nbconvert_exporter": "python",
   "pygments_lexer": "ipython3",
   "version": "3.11.5"
  }
 },
 "nbformat": 4,
 "nbformat_minor": 5
}
