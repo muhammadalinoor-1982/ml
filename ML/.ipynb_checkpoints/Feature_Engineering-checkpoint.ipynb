{
 "cells": [
  {
   "cell_type": "markdown",
   "id": "6b78b148-c1ae-4d14-9569-ef08ea779aac",
   "metadata": {},
   "source": [
    "# Feature Engineering"
   ]
  },
  {
   "cell_type": "raw",
   "id": "9ad78e1e",
   "metadata": {},
   "source": [
    "Feature Engineering:\n",
    "    1. Feature Transformation\n",
    "        a) Missing Value Imputation\n",
    "        b) Handling Categorical Features\n",
    "        c) Outlires Detection\n",
    "        d) Feature Scaling\n",
    "    2. Feature Constrauction\n",
    "    3. Feature Selection\n",
    "    4. Feature Extraction"
   ]
  },
  {
   "cell_type": "markdown",
   "id": "73d9abab-643d-4953-80f9-08c49af2eeec",
   "metadata": {},
   "source": [
    "What Next..."
   ]
  }
 ],
 "metadata": {
  "kernelspec": {
   "display_name": "Python 3 (ipykernel)",
   "language": "python",
   "name": "python3"
  },
  "language_info": {
   "codemirror_mode": {
    "name": "ipython",
    "version": 3
   },
   "file_extension": ".py",
   "mimetype": "text/x-python",
   "name": "python",
   "nbconvert_exporter": "python",
   "pygments_lexer": "ipython3",
   "version": "3.11.5"
  }
 },
 "nbformat": 4,
 "nbformat_minor": 5
}
